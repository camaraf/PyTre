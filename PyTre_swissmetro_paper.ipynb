{
 "cells": [
  {
   "cell_type": "markdown",
   "metadata": {},
   "source": [
    "# Embeddings with swissmetro "
   ]
  },
  {
   "cell_type": "markdown",
   "metadata": {},
   "source": [
    "By: Francisco C. Pereira - camara@dtu.dk, Technical University of Denmark (DTU)\n",
    "July, 2019"
   ]
  },
  {
   "cell_type": "markdown",
   "metadata": {},
   "source": [
    "This notebook aims to illustrate the use of Python Travel Embeddings package (PyTre) in a mode choice problem. We use the Swissmetro dataset (https://biogeme.epfl.ch/examples_swissmetro.html) as well as PyLogit (https://github.com/timothyb0912/pylogit).\n",
    "\n",
    "Besides installing PyTre and Pylogit, you need to have keras installed as well as the typical Scipy suite. \n",
    "\n",
    "This code was designed for (and is therfore a companion to) the working paper _\"Re-representing travel behavior through embeddings\", Francisco C. Pereira_ and therefore contains the respective parameters, thresholds or whatever particular choices were made and explained there. Of course, feel free to change whatever."
   ]
  },
  {
   "cell_type": "code",
   "execution_count": 69,
   "metadata": {},
   "outputs": [],
   "source": [
    "import pandas as pd\n",
    "import numpy as np\n",
    "from matplotlib import pyplot as plt\n",
    "import pickle\n",
    "import scipy.spatial\n",
    "import matplotlib.cm as cm\n",
    "import scipy.stats\n",
    "import tensorflow as tf\n",
    "import keras\n",
    "\n",
    "import math\n",
    "from collections import OrderedDict \n",
    "\n",
    "\n",
    "from keras.layers.core import Dense, Activation, Dropout, Flatten\n",
    "from keras.layers.embeddings import Embedding\n",
    "from keras.layers.recurrent import LSTM\n",
    "from keras.layers import BatchNormalization, Input, concatenate\n",
    "import tempfile\n",
    "import keras.models\n",
    "from keras.models import Model, Sequential, load_model\n",
    "from keras import regularizers\n",
    "from keras.callbacks import ModelCheckpoint\n",
    "import keras.backend as K\n",
    "\n",
    "from sklearn.linear_model  import LogisticRegressionCV, LogisticRegression\n",
    "from sklearn.decomposition import PCA\n",
    "from sklearn.manifold import TSNE, MDS\n",
    "from sklearn.model_selection import train_test_split\n",
    "\n",
    "\n",
    "import pylogit as pl                   # For MNL model estimation and\n",
    "                        \n",
    "import PyTre"
   ]
  },
  {
   "cell_type": "markdown",
   "metadata": {},
   "source": [
    "We will follow a 3-way validation method, where we split the dataset into three parts: training, development and test set. Let's set the proportion of training set\n",
    "\n",
    "**note: as you will notice, we'll start splitting into 80/20 for train/test, then extract 25% of the training set to be development. It's easier to only split the training set later, because we'll need to prepare data consistently on the training set size.**"
   ]
  },
  {
   "cell_type": "code",
   "execution_count": 70,
   "metadata": {},
   "outputs": [],
   "source": [
    "SPLIT_EMBEDDINGS_DCM=.80\n",
    "TRAINSET_WITHOUT_DEV=.75"
   ]
  },
  {
   "cell_type": "markdown",
   "metadata": {},
   "source": [
    "Make sure you have the swissmetro.dat file. We use the swissmetro_rand.dat, because we shuffle the original dataset (check \"swissmetro_data_prep.ipynb\" file)"
   ]
  },
  {
   "cell_type": "code",
   "execution_count": 71,
   "metadata": {},
   "outputs": [],
   "source": [
    "sw_df_full=pd.read_csv('swissmetro_rand.dat')"
   ]
  },
  {
   "cell_type": "markdown",
   "metadata": {},
   "source": [
    "There is some repeated warnings (e.g. should use .loc instead of a replace pandas function doesn't seem to be deprecated). If you're using a much later Python version (after July 2019), we recommend to comment the code below and run the whole notebook to check if there are important warnings."
   ]
  },
  {
   "cell_type": "code",
   "execution_count": 72,
   "metadata": {},
   "outputs": [],
   "source": [
    "import warnings\n",
    "warnings.filterwarnings('ignore')"
   ]
  },
  {
   "cell_type": "markdown",
   "metadata": {},
   "source": [
    "----------"
   ]
  },
  {
   "cell_type": "markdown",
   "metadata": {},
   "source": [
    "## Some data preparation"
   ]
  },
  {
   "cell_type": "markdown",
   "metadata": {},
   "source": [
    "Let's extract the corresponding part of the database (determined by SPLIT_EMBEDDINGS_DCM). We are **not** shuffling just to make the results consistent. Notice that we have already shuffled it in the data preparation file."
   ]
  },
  {
   "cell_type": "code",
   "execution_count": 73,
   "metadata": {},
   "outputs": [],
   "source": [
    "sw_df,_=train_test_split(sw_df_full, train_size=SPLIT_EMBEDDINGS_DCM, shuffle=False)"
   ]
  },
  {
   "cell_type": "markdown",
   "metadata": {},
   "source": [
    "The code below serves only for readability later on. We replace each categorical value (typically a number 0-N) with its description string. "
   ]
  },
  {
   "cell_type": "code",
   "execution_count": 74,
   "metadata": {},
   "outputs": [],
   "source": [
    "tickets={0: 'None', 1: '2 way w 1/2 price', 2: '1 way w 1/2 price', 3: '2 way normal price', 4: '1 way normal price', 5: 'Half day', 6: 'Annual ticket', 7: 'Annual ticket Junior or Senior', 8: 'Free travel after 7pm', 9: 'Group ticket', 10: 'Other'}\n",
    "ages={1: 'age≤24', 2: '24<age≤39', 3: '39<age≤54', 4: '54<age≤ 65', 5: '65 <age', 6: 'not known'}\n",
    "incomes={0:'under 50', 1: 'under 50', 2: 'between 50 and 100', 3: 'over 100', 4: 'unknown'}\n",
    "whos={0: 'unknown', 1: 'self', 2: 'employer', 3: 'half-half'}\n",
    "cantons={1:'ZH', 2: 'BE', 3: 'LU', 4:'UR', 5:'SZ', 6:'OW', 7:'NW', 8:'GL', 9:'ZG', 10: 'FR', 11: 'SO', 12:'BS', 13:'BL', \n",
    "         14:'SH', 15: 'AR', 16:'AI', 17:'SG', 18:'GR', 19:'AG', 20: 'TH', 21: 'TI', 22:'VD', 23:'VS', 24: 'NE', 25:'GE', 26:'JU'}\n",
    "\n",
    "\n",
    "def update_table_codes(dic, df, column):\n",
    "    for t in dic:\n",
    "        df[column]=df[column].replace(t, dic[t])\n",
    "    return df\n",
    "    \n",
    "sw_df=update_table_codes(tickets, sw_df, 'TICKET')\n",
    "sw_df=update_table_codes(ages, sw_df, 'AGE')\n",
    "sw_df=update_table_codes(incomes, sw_df, 'INCOME')\n",
    "se_df=update_table_codes(whos, sw_df, 'WHO')\n",
    "    "
   ]
  },
  {
   "cell_type": "markdown",
   "metadata": {},
   "source": [
    "The dataset comes with origin and destination separate in different columns, and we want to use OD as a variable, so we need pair them up"
   ]
  },
  {
   "cell_type": "code",
   "execution_count": 75,
   "metadata": {},
   "outputs": [],
   "source": [
    "#combines a list of variables into a single one where its content is the concatenation of values in the list\n",
    "#In our OD case, we combine ['ORIGIN', 'DEST'] into \"OD\", where \"OD\" becomes values like GE_ZH, BE_LU...\n",
    "#ONLY for categorical variables\n",
    "def pair_up(df, pair_name, varlist, enforce_int=False): \n",
    "    new_df=df[:]\n",
    "    new_var=[]\n",
    "    for index, row in new_df.iterrows():\n",
    "        nv=\"\"\n",
    "        for v in varlist:\n",
    "            val=row[v]\n",
    "            if enforce_int:\n",
    "                val=int(val)\n",
    "            #nv+=str(val)+\"_\"\n",
    "            nv+=cantons[val]+\"_\"\n",
    "        nv=nv[:-1]\n",
    "        new_var.append(nv)\n",
    "    new_df[pair_name]=new_var\n",
    "    \n",
    "    return new_df"
   ]
  },
  {
   "cell_type": "code",
   "execution_count": 76,
   "metadata": {},
   "outputs": [],
   "source": [
    "sw_df=pair_up(sw_df, \"OD\", ['ORIGIN', 'DEST'])"
   ]
  },
  {
   "cell_type": "markdown",
   "metadata": {},
   "source": [
    "## Creation of the embeddings"
   ]
  },
  {
   "cell_type": "markdown",
   "metadata": {},
   "source": [
    "Let's do our embeddings then. \n",
    "\n",
    "First, we need to decide which variables we want to create embeddings for"
   ]
  },
  {
   "cell_type": "code",
   "execution_count": 77,
   "metadata": {},
   "outputs": [],
   "source": [
    "emb_vars=['OD', 'TICKET', 'WHO', 'AGE', 'INCOME']\n"
   ]
  },
  {
   "cell_type": "markdown",
   "metadata": {},
   "source": [
    "Second, we need to decide, for EACH embeddings variable (emb_var), what embeddings size will be used\n",
    "\n",
    "**note: you could actually can skip this step, and just let PyTre determine the embeddings size for us. Internally, it will apply PCA to each variable and select the number of eigenvectors with a certain variance explained (varexp, default 90%). This does not give the best results, however, with the Swissmetro dataset. No reason not to try it with your own dataset**"
   ]
  },
  {
   "cell_type": "code",
   "execution_count": 78,
   "metadata": {},
   "outputs": [],
   "source": [
    "EMB_SIZES=[3, 5,1, 3, 3]"
   ]
  },
  {
   "cell_type": "markdown",
   "metadata": {},
   "source": [
    "Ah, also important: which exogenous variables do you want to give the embeddings model to estimate with. Ideally, you should use the exact same variables you will later use in your model"
   ]
  },
  {
   "cell_type": "code",
   "execution_count": 79,
   "metadata": {},
   "outputs": [],
   "source": [
    "ex_vars=['CAR_TT', 'TRAIN_TT', 'SM_TT', 'FIRST', 'SURVEY']\n"
   ]
  },
  {
   "cell_type": "markdown",
   "metadata": {},
   "source": [
    "Of course, you need to specify the target variable for the embeddings. Since we're making embeddings for mode, we use the variable \"CHOICE\" in Swissmetro"
   ]
  },
  {
   "cell_type": "code",
   "execution_count": 80,
   "metadata": {},
   "outputs": [],
   "source": [
    "y_var=['CHOICE']"
   ]
  },
  {
   "cell_type": "markdown",
   "metadata": {},
   "source": [
    "Let's create PyTre object..."
   ]
  },
  {
   "cell_type": "code",
   "execution_count": 81,
   "metadata": {},
   "outputs": [],
   "source": [
    "pt=PyTre.EmbeddingsModel()"
   ]
  },
  {
   "cell_type": "code",
   "execution_count": 82,
   "metadata": {},
   "outputs": [],
   "source": [
    "sw_df_train,_=train_test_split(sw_df, train_size=TRAINSET_WITHOUT_DEV, shuffle=False)"
   ]
  },
  {
   "cell_type": "markdown",
   "metadata": {},
   "source": [
    "Let's finally estimate the embeddings. Feel free to play with the parameters to see their effect. Some explanations:\n",
    "- we give the dataset in different components (x= columns related to the emb_vars; y=target variable;  exogenous=columns related to exogenous variables)\n",
    "- it may be convenient to send labels (xlabels), just to be able to understand the output better later on\n",
    "- The EPOCHS variable determines the MAXIMUM number of epochs. Your algorithm might terminate earlier if the stopping condition (not improving for more than 20 epochs). \n",
    "- This automatic termination ONLY works if you have a bit of a validation dataset (we use 20% of VALIDATION_SPLIT). If you have it as 0, then it will run EXACTLY the number of EPOCHS you selected\n",
    "- The variable CRC (default TRUE) adds the regularizer layer (check paper)\n",
    "- The parameter EMB_SIZE sets the embeddings size for each of the variables. The default is \"auto\", which automatically determines the numbers through PCA"
   ]
  },
  {
   "cell_type": "code",
   "execution_count": 83,
   "metadata": {
    "scrolled": true
   },
   "outputs": [
    {
     "name": "stdout",
     "output_type": "stream",
     "text": [
      "Epoch 1/80\n",
      "6414/6414 [==============================] - 2s 328us/step - loss: 15.3965 - output_layer_loss: 3.5818 - crc_embeddings_OD_loss: 4.5363 - crc_embeddings_TICKET_loss: 2.1406 - crc_embeddings_WHO_loss: 1.3625 - crc_embeddings_AGE_loss: 1.5710 - crc_embeddings_INCOME_loss: 1.3270\n",
      "Epoch 2/80\n",
      "6414/6414 [==============================] - 1s 115us/step - loss: 13.1022 - output_layer_loss: 1.8346 - crc_embeddings_OD_loss: 4.4877 - crc_embeddings_TICKET_loss: 2.0367 - crc_embeddings_WHO_loss: 1.3216 - crc_embeddings_AGE_loss: 1.4947 - crc_embeddings_INCOME_loss: 1.2630\n",
      "Epoch 3/80\n",
      "6414/6414 [==============================] - 1s 114us/step - loss: 11.9679 - output_layer_loss: 1.1373 - crc_embeddings_OD_loss: 4.4419 - crc_embeddings_TICKET_loss: 1.9277 - crc_embeddings_WHO_loss: 1.2826 - crc_embeddings_AGE_loss: 1.4295 - crc_embeddings_INCOME_loss: 1.2011\n",
      "Epoch 4/80\n",
      "6414/6414 [==============================] - 1s 115us/step - loss: 11.4125 - output_layer_loss: 0.9745 - crc_embeddings_OD_loss: 4.3978 - crc_embeddings_TICKET_loss: 1.7994 - crc_embeddings_WHO_loss: 1.2418 - crc_embeddings_AGE_loss: 1.3645 - crc_embeddings_INCOME_loss: 1.1346\n",
      "Epoch 5/80\n",
      "6414/6414 [==============================] - 1s 112us/step - loss: 10.9642 - output_layer_loss: 0.9030 - crc_embeddings_OD_loss: 4.3543 - crc_embeddings_TICKET_loss: 1.6466 - crc_embeddings_WHO_loss: 1.1995 - crc_embeddings_AGE_loss: 1.2996 - crc_embeddings_INCOME_loss: 1.0584\n",
      "Epoch 6/80\n",
      "6414/6414 [==============================] - 1s 117us/step - loss: 10.5681 - output_layer_loss: 0.8691 - crc_embeddings_OD_loss: 4.3115 - crc_embeddings_TICKET_loss: 1.4820 - crc_embeddings_WHO_loss: 1.1542 - crc_embeddings_AGE_loss: 1.2315 - crc_embeddings_INCOME_loss: 0.9795\n",
      "Epoch 7/80\n",
      "6414/6414 [==============================] - 1s 116us/step - loss: 10.2004 - output_layer_loss: 0.8549 - crc_embeddings_OD_loss: 4.2690 - crc_embeddings_TICKET_loss: 1.3156 - crc_embeddings_WHO_loss: 1.1073 - crc_embeddings_AGE_loss: 1.1588 - crc_embeddings_INCOME_loss: 0.8942\n",
      "Epoch 8/80\n",
      "6414/6414 [==============================] - 1s 117us/step - loss: 9.8711 - output_layer_loss: 0.8470 - crc_embeddings_OD_loss: 4.2261 - crc_embeddings_TICKET_loss: 1.1640 - crc_embeddings_WHO_loss: 1.0597 - crc_embeddings_AGE_loss: 1.0811 - crc_embeddings_INCOME_loss: 0.8202\n",
      "Epoch 9/80\n",
      "6414/6414 [==============================] - 1s 117us/step - loss: 9.5749 - output_layer_loss: 0.8333 - crc_embeddings_OD_loss: 4.1823 - crc_embeddings_TICKET_loss: 1.0355 - crc_embeddings_WHO_loss: 1.0176 - crc_embeddings_AGE_loss: 1.0083 - crc_embeddings_INCOME_loss: 0.7514\n",
      "Epoch 10/80\n",
      "6414/6414 [==============================] - 1s 118us/step - loss: 9.3303 - output_layer_loss: 0.8331 - crc_embeddings_OD_loss: 4.1366 - crc_embeddings_TICKET_loss: 0.9365 - crc_embeddings_WHO_loss: 0.9766 - crc_embeddings_AGE_loss: 0.9386 - crc_embeddings_INCOME_loss: 0.6940\n",
      "Epoch 11/80\n",
      "6414/6414 [==============================] - 1s 115us/step - loss: 9.1105 - output_layer_loss: 0.8202 - crc_embeddings_OD_loss: 4.0879 - crc_embeddings_TICKET_loss: 0.8578 - crc_embeddings_WHO_loss: 0.9438 - crc_embeddings_AGE_loss: 0.8816 - crc_embeddings_INCOME_loss: 0.6437\n",
      "Epoch 12/80\n",
      "6414/6414 [==============================] - 1s 116us/step - loss: 8.9218 - output_layer_loss: 0.8251 - crc_embeddings_OD_loss: 4.0381 - crc_embeddings_TICKET_loss: 0.7955 - crc_embeddings_WHO_loss: 0.9059 - crc_embeddings_AGE_loss: 0.8246 - crc_embeddings_INCOME_loss: 0.6047\n",
      "Epoch 13/80\n",
      "6414/6414 [==============================] - 1s 114us/step - loss: 8.7578 - output_layer_loss: 0.8209 - crc_embeddings_OD_loss: 3.9866 - crc_embeddings_TICKET_loss: 0.7516 - crc_embeddings_WHO_loss: 0.8716 - crc_embeddings_AGE_loss: 0.7844 - crc_embeddings_INCOME_loss: 0.5684\n",
      "Epoch 14/80\n",
      "6414/6414 [==============================] - 1s 114us/step - loss: 8.6157 - output_layer_loss: 0.8199 - crc_embeddings_OD_loss: 3.9291 - crc_embeddings_TICKET_loss: 0.7169 - crc_embeddings_WHO_loss: 0.8349 - crc_embeddings_AGE_loss: 0.7570 - crc_embeddings_INCOME_loss: 0.5414\n",
      "Epoch 15/80\n",
      "6414/6414 [==============================] - 1s 115us/step - loss: 8.4814 - output_layer_loss: 0.8237 - crc_embeddings_OD_loss: 3.8790 - crc_embeddings_TICKET_loss: 0.6877 - crc_embeddings_WHO_loss: 0.7986 - crc_embeddings_AGE_loss: 0.7221 - crc_embeddings_INCOME_loss: 0.5176\n",
      "Epoch 16/80\n",
      "6414/6414 [==============================] - 1s 106us/step - loss: 8.3436 - output_layer_loss: 0.8108 - crc_embeddings_OD_loss: 3.8207 - crc_embeddings_TICKET_loss: 0.6641 - crc_embeddings_WHO_loss: 0.7627 - crc_embeddings_AGE_loss: 0.7002 - crc_embeddings_INCOME_loss: 0.4986\n",
      "Epoch 17/80\n",
      "6414/6414 [==============================] - 1s 108us/step - loss: 8.2528 - output_layer_loss: 0.8258 - crc_embeddings_OD_loss: 3.7646 - crc_embeddings_TICKET_loss: 0.6532 - crc_embeddings_WHO_loss: 0.7300 - crc_embeddings_AGE_loss: 0.6815 - crc_embeddings_INCOME_loss: 0.4766\n",
      "Epoch 18/80\n",
      "6414/6414 [==============================] - 1s 114us/step - loss: 8.1281 - output_layer_loss: 0.8080 - crc_embeddings_OD_loss: 3.7071 - crc_embeddings_TICKET_loss: 0.6362 - crc_embeddings_WHO_loss: 0.7002 - crc_embeddings_AGE_loss: 0.6634 - crc_embeddings_INCOME_loss: 0.4611\n",
      "Epoch 19/80\n",
      "6414/6414 [==============================] - 1s 116us/step - loss: 8.0354 - output_layer_loss: 0.8080 - crc_embeddings_OD_loss: 3.6539 - crc_embeddings_TICKET_loss: 0.6223 - crc_embeddings_WHO_loss: 0.6760 - crc_embeddings_AGE_loss: 0.6459 - crc_embeddings_INCOME_loss: 0.4449\n",
      "Epoch 20/80\n",
      "6414/6414 [==============================] - 1s 110us/step - loss: 7.9595 - output_layer_loss: 0.8056 - crc_embeddings_OD_loss: 3.6028 - crc_embeddings_TICKET_loss: 0.6164 - crc_embeddings_WHO_loss: 0.6534 - crc_embeddings_AGE_loss: 0.6404 - crc_embeddings_INCOME_loss: 0.4262\n",
      "Epoch 21/80\n",
      "6414/6414 [==============================] - 1s 111us/step - loss: 7.8864 - output_layer_loss: 0.8007 - crc_embeddings_OD_loss: 3.5554 - crc_embeddings_TICKET_loss: 0.6110 - crc_embeddings_WHO_loss: 0.6364 - crc_embeddings_AGE_loss: 0.6265 - crc_embeddings_INCOME_loss: 0.4121\n",
      "Epoch 22/80\n",
      "6414/6414 [==============================] - 1s 113us/step - loss: 7.8303 - output_layer_loss: 0.8076 - crc_embeddings_OD_loss: 3.5176 - crc_embeddings_TICKET_loss: 0.6005 - crc_embeddings_WHO_loss: 0.6213 - crc_embeddings_AGE_loss: 0.6165 - crc_embeddings_INCOME_loss: 0.3984\n",
      "Epoch 23/80\n",
      "6414/6414 [==============================] - 1s 115us/step - loss: 7.7702 - output_layer_loss: 0.8064 - crc_embeddings_OD_loss: 3.4759 - crc_embeddings_TICKET_loss: 0.5943 - crc_embeddings_WHO_loss: 0.6085 - crc_embeddings_AGE_loss: 0.6061 - crc_embeddings_INCOME_loss: 0.3855\n",
      "Epoch 24/80\n",
      "6414/6414 [==============================] - 1s 112us/step - loss: 7.7072 - output_layer_loss: 0.7941 - crc_embeddings_OD_loss: 3.4572 - crc_embeddings_TICKET_loss: 0.5883 - crc_embeddings_WHO_loss: 0.5897 - crc_embeddings_AGE_loss: 0.5961 - crc_embeddings_INCOME_loss: 0.3677\n",
      "Epoch 25/80\n",
      "6414/6414 [==============================] - 1s 113us/step - loss: 7.6796 - output_layer_loss: 0.7988 - crc_embeddings_OD_loss: 3.4223 - crc_embeddings_TICKET_loss: 0.5838 - crc_embeddings_WHO_loss: 0.5881 - crc_embeddings_AGE_loss: 0.5868 - crc_embeddings_INCOME_loss: 0.3661\n",
      "Epoch 26/80\n",
      "6414/6414 [==============================] - 1s 103us/step - loss: 7.6255 - output_layer_loss: 0.7937 - crc_embeddings_OD_loss: 3.3955 - crc_embeddings_TICKET_loss: 0.5816 - crc_embeddings_WHO_loss: 0.5732 - crc_embeddings_AGE_loss: 0.5811 - crc_embeddings_INCOME_loss: 0.3477\n",
      "Epoch 27/80\n",
      "6414/6414 [==============================] - 1s 106us/step - loss: 7.6071 - output_layer_loss: 0.8011 - crc_embeddings_OD_loss: 3.3742 - crc_embeddings_TICKET_loss: 0.5774 - crc_embeddings_WHO_loss: 0.5759 - crc_embeddings_AGE_loss: 0.5715 - crc_embeddings_INCOME_loss: 0.3381\n",
      "Epoch 28/80\n",
      "6414/6414 [==============================] - 1s 117us/step - loss: 7.5685 - output_layer_loss: 0.7980 - crc_embeddings_OD_loss: 3.3622 - crc_embeddings_TICKET_loss: 0.5712 - crc_embeddings_WHO_loss: 0.5663 - crc_embeddings_AGE_loss: 0.5637 - crc_embeddings_INCOME_loss: 0.3266\n",
      "Epoch 29/80\n"
     ]
    },
    {
     "name": "stdout",
     "output_type": "stream",
     "text": [
      "6414/6414 [==============================] - 1s 115us/step - loss: 7.5667 - output_layer_loss: 0.8095 - crc_embeddings_OD_loss: 3.3480 - crc_embeddings_TICKET_loss: 0.5696 - crc_embeddings_WHO_loss: 0.5587 - crc_embeddings_AGE_loss: 0.5653 - crc_embeddings_INCOME_loss: 0.3247\n",
      "Epoch 30/80\n",
      "6414/6414 [==============================] - 1s 116us/step - loss: 7.5304 - output_layer_loss: 0.8014 - crc_embeddings_OD_loss: 3.3273 - crc_embeddings_TICKET_loss: 0.5672 - crc_embeddings_WHO_loss: 0.5606 - crc_embeddings_AGE_loss: 0.5523 - crc_embeddings_INCOME_loss: 0.3199\n",
      "Epoch 31/80\n",
      "6414/6414 [==============================] - 1s 112us/step - loss: 7.4858 - output_layer_loss: 0.7869 - crc_embeddings_OD_loss: 3.3222 - crc_embeddings_TICKET_loss: 0.5596 - crc_embeddings_WHO_loss: 0.5535 - crc_embeddings_AGE_loss: 0.5404 - crc_embeddings_INCOME_loss: 0.3113\n",
      "Epoch 32/80\n",
      "6414/6414 [==============================] - 1s 109us/step - loss: 7.4795 - output_layer_loss: 0.7939 - crc_embeddings_OD_loss: 3.3146 - crc_embeddings_TICKET_loss: 0.5579 - crc_embeddings_WHO_loss: 0.5485 - crc_embeddings_AGE_loss: 0.5384 - crc_embeddings_INCOME_loss: 0.3081\n",
      "Epoch 33/80\n",
      "6414/6414 [==============================] - 1s 112us/step - loss: 7.4581 - output_layer_loss: 0.7954 - crc_embeddings_OD_loss: 3.3061 - crc_embeddings_TICKET_loss: 0.5590 - crc_embeddings_WHO_loss: 0.5467 - crc_embeddings_AGE_loss: 0.5293 - crc_embeddings_INCOME_loss: 0.2963\n",
      "Epoch 34/80\n",
      "6414/6414 [==============================] - 1s 116us/step - loss: 7.4501 - output_layer_loss: 0.7922 - crc_embeddings_OD_loss: 3.3007 - crc_embeddings_TICKET_loss: 0.5527 - crc_embeddings_WHO_loss: 0.5432 - crc_embeddings_AGE_loss: 0.5327 - crc_embeddings_INCOME_loss: 0.2985\n",
      "Epoch 35/80\n",
      "6414/6414 [==============================] - 1s 115us/step - loss: 7.4396 - output_layer_loss: 0.7898 - crc_embeddings_OD_loss: 3.3004 - crc_embeddings_TICKET_loss: 0.5533 - crc_embeddings_WHO_loss: 0.5397 - crc_embeddings_AGE_loss: 0.5233 - crc_embeddings_INCOME_loss: 0.2964\n",
      "Epoch 36/80\n",
      "6414/6414 [==============================] - 1s 109us/step - loss: 7.4305 - output_layer_loss: 0.7883 - crc_embeddings_OD_loss: 3.2918 - crc_embeddings_TICKET_loss: 0.5520 - crc_embeddings_WHO_loss: 0.5448 - crc_embeddings_AGE_loss: 0.5252 - crc_embeddings_INCOME_loss: 0.2881\n",
      "Epoch 37/80\n",
      "6414/6414 [==============================] - 1s 113us/step - loss: 7.4079 - output_layer_loss: 0.7869 - crc_embeddings_OD_loss: 3.2879 - crc_embeddings_TICKET_loss: 0.5509 - crc_embeddings_WHO_loss: 0.5323 - crc_embeddings_AGE_loss: 0.5189 - crc_embeddings_INCOME_loss: 0.2884\n",
      "Epoch 38/80\n",
      "6414/6414 [==============================] - 1s 116us/step - loss: 7.3965 - output_layer_loss: 0.7895 - crc_embeddings_OD_loss: 3.2841 - crc_embeddings_TICKET_loss: 0.5513 - crc_embeddings_WHO_loss: 0.5241 - crc_embeddings_AGE_loss: 0.5164 - crc_embeddings_INCOME_loss: 0.2851\n",
      "Epoch 39/80\n",
      "6414/6414 [==============================] - 1s 114us/step - loss: 7.3921 - output_layer_loss: 0.7927 - crc_embeddings_OD_loss: 3.2800 - crc_embeddings_TICKET_loss: 0.5466 - crc_embeddings_WHO_loss: 0.5356 - crc_embeddings_AGE_loss: 0.5116 - crc_embeddings_INCOME_loss: 0.2763\n",
      "Epoch 40/80\n",
      "6414/6414 [==============================] - 1s 112us/step - loss: 7.3627 - output_layer_loss: 0.7900 - crc_embeddings_OD_loss: 3.2754 - crc_embeddings_TICKET_loss: 0.5421 - crc_embeddings_WHO_loss: 0.5240 - crc_embeddings_AGE_loss: 0.4988 - crc_embeddings_INCOME_loss: 0.2781\n",
      "Epoch 41/80\n",
      "6414/6414 [==============================] - 1s 117us/step - loss: 7.3528 - output_layer_loss: 0.7848 - crc_embeddings_OD_loss: 3.2727 - crc_embeddings_TICKET_loss: 0.5403 - crc_embeddings_WHO_loss: 0.5201 - crc_embeddings_AGE_loss: 0.4942 - crc_embeddings_INCOME_loss: 0.2831\n",
      "Epoch 42/80\n",
      "6414/6414 [==============================] - 1s 115us/step - loss: 7.3409 - output_layer_loss: 0.7856 - crc_embeddings_OD_loss: 3.2638 - crc_embeddings_TICKET_loss: 0.5380 - crc_embeddings_WHO_loss: 0.5197 - crc_embeddings_AGE_loss: 0.4982 - crc_embeddings_INCOME_loss: 0.2748\n",
      "Epoch 43/80\n",
      "6414/6414 [==============================] - 1s 118us/step - loss: 7.3265 - output_layer_loss: 0.7784 - crc_embeddings_OD_loss: 3.2728 - crc_embeddings_TICKET_loss: 0.5403 - crc_embeddings_WHO_loss: 0.5105 - crc_embeddings_AGE_loss: 0.4899 - crc_embeddings_INCOME_loss: 0.2714\n",
      "Epoch 44/80\n",
      "6414/6414 [==============================] - 1s 115us/step - loss: 7.3238 - output_layer_loss: 0.7866 - crc_embeddings_OD_loss: 3.2612 - crc_embeddings_TICKET_loss: 0.5384 - crc_embeddings_WHO_loss: 0.5061 - crc_embeddings_AGE_loss: 0.4902 - crc_embeddings_INCOME_loss: 0.2744\n",
      "Epoch 45/80\n",
      "6414/6414 [==============================] - 1s 113us/step - loss: 7.3228 - output_layer_loss: 0.7884 - crc_embeddings_OD_loss: 3.2603 - crc_embeddings_TICKET_loss: 0.5367 - crc_embeddings_WHO_loss: 0.5079 - crc_embeddings_AGE_loss: 0.4889 - crc_embeddings_INCOME_loss: 0.2730\n",
      "Epoch 46/80\n",
      "6414/6414 [==============================] - 1s 113us/step - loss: 7.3035 - output_layer_loss: 0.7769 - crc_embeddings_OD_loss: 3.2664 - crc_embeddings_TICKET_loss: 0.5372 - crc_embeddings_WHO_loss: 0.5038 - crc_embeddings_AGE_loss: 0.4847 - crc_embeddings_INCOME_loss: 0.2666\n",
      "Epoch 47/80\n",
      "6414/6414 [==============================] - 1s 113us/step - loss: 7.3054 - output_layer_loss: 0.7760 - crc_embeddings_OD_loss: 3.2701 - crc_embeddings_TICKET_loss: 0.5356 - crc_embeddings_WHO_loss: 0.5010 - crc_embeddings_AGE_loss: 0.4802 - crc_embeddings_INCOME_loss: 0.2704\n",
      "Epoch 48/80\n",
      "6414/6414 [==============================] - 1s 114us/step - loss: 7.2909 - output_layer_loss: 0.7827 - crc_embeddings_OD_loss: 3.2664 - crc_embeddings_TICKET_loss: 0.5359 - crc_embeddings_WHO_loss: 0.4926 - crc_embeddings_AGE_loss: 0.4693 - crc_embeddings_INCOME_loss: 0.2697\n",
      "Epoch 49/80\n",
      "6414/6414 [==============================] - 1s 115us/step - loss: 7.2952 - output_layer_loss: 0.7843 - crc_embeddings_OD_loss: 3.2627 - crc_embeddings_TICKET_loss: 0.5357 - crc_embeddings_WHO_loss: 0.4968 - crc_embeddings_AGE_loss: 0.4699 - crc_embeddings_INCOME_loss: 0.2684\n",
      "Epoch 50/80\n",
      "6414/6414 [==============================] - 1s 115us/step - loss: 7.2902 - output_layer_loss: 0.7771 - crc_embeddings_OD_loss: 3.2663 - crc_embeddings_TICKET_loss: 0.5328 - crc_embeddings_WHO_loss: 0.4956 - crc_embeddings_AGE_loss: 0.4709 - crc_embeddings_INCOME_loss: 0.2661\n",
      "Epoch 51/80\n",
      "6414/6414 [==============================] - 1s 115us/step - loss: 7.2864 - output_layer_loss: 0.7786 - crc_embeddings_OD_loss: 3.2668 - crc_embeddings_TICKET_loss: 0.5349 - crc_embeddings_WHO_loss: 0.4946 - crc_embeddings_AGE_loss: 0.4639 - crc_embeddings_INCOME_loss: 0.2655\n",
      "Epoch 52/80\n",
      "6414/6414 [==============================] - 1s 114us/step - loss: 7.2951 - output_layer_loss: 0.7940 - crc_embeddings_OD_loss: 3.2637 - crc_embeddings_TICKET_loss: 0.5363 - crc_embeddings_WHO_loss: 0.4903 - crc_embeddings_AGE_loss: 0.4614 - crc_embeddings_INCOME_loss: 0.2662\n",
      "Epoch 53/80\n",
      "6414/6414 [==============================] - 1s 129us/step - loss: 7.2796 - output_layer_loss: 0.7870 - crc_embeddings_OD_loss: 3.2640 - crc_embeddings_TICKET_loss: 0.5344 - crc_embeddings_WHO_loss: 0.4914 - crc_embeddings_AGE_loss: 0.4518 - crc_embeddings_INCOME_loss: 0.2636\n",
      "Epoch 54/80\n",
      "6414/6414 [==============================] - 1s 118us/step - loss: 7.2639 - output_layer_loss: 0.7826 - crc_embeddings_OD_loss: 3.2617 - crc_embeddings_TICKET_loss: 0.5321 - crc_embeddings_WHO_loss: 0.4877 - crc_embeddings_AGE_loss: 0.4551 - crc_embeddings_INCOME_loss: 0.2552\n",
      "Epoch 55/80\n",
      "6414/6414 [==============================] - 1s 114us/step - loss: 7.2692 - output_layer_loss: 0.7777 - crc_embeddings_OD_loss: 3.2663 - crc_embeddings_TICKET_loss: 0.5331 - crc_embeddings_WHO_loss: 0.4873 - crc_embeddings_AGE_loss: 0.4539 - crc_embeddings_INCOME_loss: 0.2581\n",
      "Epoch 56/80\n",
      "6414/6414 [==============================] - 1s 110us/step - loss: 7.2532 - output_layer_loss: 0.7722 - crc_embeddings_OD_loss: 3.2612 - crc_embeddings_TICKET_loss: 0.5318 - crc_embeddings_WHO_loss: 0.4824 - crc_embeddings_AGE_loss: 0.4467 - crc_embeddings_INCOME_loss: 0.2640\n",
      "Epoch 57/80\n"
     ]
    },
    {
     "name": "stdout",
     "output_type": "stream",
     "text": [
      "6414/6414 [==============================] - 1s 142us/step - loss: 7.2441 - output_layer_loss: 0.7746 - crc_embeddings_OD_loss: 3.2599 - crc_embeddings_TICKET_loss: 0.5312 - crc_embeddings_WHO_loss: 0.4818 - crc_embeddings_AGE_loss: 0.4398 - crc_embeddings_INCOME_loss: 0.2598\n",
      "Epoch 58/80\n",
      "6414/6414 [==============================] - 1s 110us/step - loss: 7.2473 - output_layer_loss: 0.7729 - crc_embeddings_OD_loss: 3.2628 - crc_embeddings_TICKET_loss: 0.5296 - crc_embeddings_WHO_loss: 0.4808 - crc_embeddings_AGE_loss: 0.4389 - crc_embeddings_INCOME_loss: 0.2637\n",
      "Epoch 59/80\n",
      "6414/6414 [==============================] - 1s 113us/step - loss: 7.2493 - output_layer_loss: 0.7782 - crc_embeddings_OD_loss: 3.2597 - crc_embeddings_TICKET_loss: 0.5303 - crc_embeddings_WHO_loss: 0.4764 - crc_embeddings_AGE_loss: 0.4385 - crc_embeddings_INCOME_loss: 0.2647\n",
      "Epoch 60/80\n",
      "6414/6414 [==============================] - 1s 113us/step - loss: 7.2368 - output_layer_loss: 0.7716 - crc_embeddings_OD_loss: 3.2524 - crc_embeddings_TICKET_loss: 0.5315 - crc_embeddings_WHO_loss: 0.4789 - crc_embeddings_AGE_loss: 0.4333 - crc_embeddings_INCOME_loss: 0.2635\n",
      "Epoch 61/80\n",
      "6414/6414 [==============================] - 1s 115us/step - loss: 7.2338 - output_layer_loss: 0.7775 - crc_embeddings_OD_loss: 3.2628 - crc_embeddings_TICKET_loss: 0.5291 - crc_embeddings_WHO_loss: 0.4697 - crc_embeddings_AGE_loss: 0.4296 - crc_embeddings_INCOME_loss: 0.2594\n",
      "Epoch 62/80\n",
      "6414/6414 [==============================] - 1s 119us/step - loss: 7.2239 - output_layer_loss: 0.7693 - crc_embeddings_OD_loss: 3.2611 - crc_embeddings_TICKET_loss: 0.5307 - crc_embeddings_WHO_loss: 0.4764 - crc_embeddings_AGE_loss: 0.4202 - crc_embeddings_INCOME_loss: 0.2595\n",
      "Epoch 63/80\n",
      "6414/6414 [==============================] - 1s 118us/step - loss: 7.2326 - output_layer_loss: 0.7742 - crc_embeddings_OD_loss: 3.2612 - crc_embeddings_TICKET_loss: 0.5281 - crc_embeddings_WHO_loss: 0.4783 - crc_embeddings_AGE_loss: 0.4228 - crc_embeddings_INCOME_loss: 0.2593\n",
      "Epoch 64/80\n",
      "6414/6414 [==============================] - 1s 113us/step - loss: 7.2235 - output_layer_loss: 0.7702 - crc_embeddings_OD_loss: 3.2665 - crc_embeddings_TICKET_loss: 0.5259 - crc_embeddings_WHO_loss: 0.4710 - crc_embeddings_AGE_loss: 0.4217 - crc_embeddings_INCOME_loss: 0.2588\n",
      "Epoch 65/80\n",
      "6414/6414 [==============================] - 1s 112us/step - loss: 7.2255 - output_layer_loss: 0.7722 - crc_embeddings_OD_loss: 3.2627 - crc_embeddings_TICKET_loss: 0.5253 - crc_embeddings_WHO_loss: 0.4765 - crc_embeddings_AGE_loss: 0.4155 - crc_embeddings_INCOME_loss: 0.2607\n",
      "Epoch 66/80\n",
      "6414/6414 [==============================] - 1s 116us/step - loss: 7.2272 - output_layer_loss: 0.7716 - crc_embeddings_OD_loss: 3.2607 - crc_embeddings_TICKET_loss: 0.5271 - crc_embeddings_WHO_loss: 0.4717 - crc_embeddings_AGE_loss: 0.4233 - crc_embeddings_INCOME_loss: 0.2576\n",
      "Epoch 67/80\n",
      "6414/6414 [==============================] - 1s 117us/step - loss: 7.2303 - output_layer_loss: 0.7781 - crc_embeddings_OD_loss: 3.2642 - crc_embeddings_TICKET_loss: 0.5268 - crc_embeddings_WHO_loss: 0.4681 - crc_embeddings_AGE_loss: 0.4202 - crc_embeddings_INCOME_loss: 0.2587\n",
      "Epoch 68/80\n",
      "6414/6414 [==============================] - 1s 114us/step - loss: 7.2201 - output_layer_loss: 0.7745 - crc_embeddings_OD_loss: 3.2663 - crc_embeddings_TICKET_loss: 0.5266 - crc_embeddings_WHO_loss: 0.4680 - crc_embeddings_AGE_loss: 0.4097 - crc_embeddings_INCOME_loss: 0.2598\n",
      "Epoch 69/80\n",
      "6414/6414 [==============================] - 1s 115us/step - loss: 7.2221 - output_layer_loss: 0.7767 - crc_embeddings_OD_loss: 3.2669 - crc_embeddings_TICKET_loss: 0.5240 - crc_embeddings_WHO_loss: 0.4723 - crc_embeddings_AGE_loss: 0.4149 - crc_embeddings_INCOME_loss: 0.2516\n",
      "Epoch 70/80\n",
      "6414/6414 [==============================] - 1s 117us/step - loss: 7.2271 - output_layer_loss: 0.7924 - crc_embeddings_OD_loss: 3.2599 - crc_embeddings_TICKET_loss: 0.5262 - crc_embeddings_WHO_loss: 0.4665 - crc_embeddings_AGE_loss: 0.4108 - crc_embeddings_INCOME_loss: 0.2536\n",
      "Epoch 71/80\n",
      "6414/6414 [==============================] - 1s 117us/step - loss: 7.2174 - output_layer_loss: 0.7710 - crc_embeddings_OD_loss: 3.2623 - crc_embeddings_TICKET_loss: 0.5269 - crc_embeddings_WHO_loss: 0.4670 - crc_embeddings_AGE_loss: 0.4125 - crc_embeddings_INCOME_loss: 0.2573\n",
      "Epoch 72/80\n",
      "6414/6414 [==============================] - 1s 115us/step - loss: 7.2126 - output_layer_loss: 0.7657 - crc_embeddings_OD_loss: 3.2561 - crc_embeddings_TICKET_loss: 0.5276 - crc_embeddings_WHO_loss: 0.4753 - crc_embeddings_AGE_loss: 0.4083 - crc_embeddings_INCOME_loss: 0.2591\n",
      "Epoch 73/80\n",
      "6414/6414 [==============================] - 1s 114us/step - loss: 7.2041 - output_layer_loss: 0.7662 - crc_embeddings_OD_loss: 3.2582 - crc_embeddings_TICKET_loss: 0.5271 - crc_embeddings_WHO_loss: 0.4711 - crc_embeddings_AGE_loss: 0.4114 - crc_embeddings_INCOME_loss: 0.2504\n",
      "Epoch 74/80\n",
      "6414/6414 [==============================] - 1s 115us/step - loss: 7.2165 - output_layer_loss: 0.7642 - crc_embeddings_OD_loss: 3.2621 - crc_embeddings_TICKET_loss: 0.5252 - crc_embeddings_WHO_loss: 0.4755 - crc_embeddings_AGE_loss: 0.4077 - crc_embeddings_INCOME_loss: 0.2590\n",
      "Epoch 75/80\n",
      "6414/6414 [==============================] - 1s 116us/step - loss: 7.2204 - output_layer_loss: 0.7750 - crc_embeddings_OD_loss: 3.2566 - crc_embeddings_TICKET_loss: 0.5280 - crc_embeddings_WHO_loss: 0.4740 - crc_embeddings_AGE_loss: 0.4068 - crc_embeddings_INCOME_loss: 0.2548\n",
      "Epoch 76/80\n",
      "6414/6414 [==============================] - 1s 118us/step - loss: 7.2074 - output_layer_loss: 0.7750 - crc_embeddings_OD_loss: 3.2537 - crc_embeddings_TICKET_loss: 0.5260 - crc_embeddings_WHO_loss: 0.4741 - crc_embeddings_AGE_loss: 0.4033 - crc_embeddings_INCOME_loss: 0.2478\n",
      "Epoch 77/80\n",
      "6414/6414 [==============================] - 1s 115us/step - loss: 7.2042 - output_layer_loss: 0.7685 - crc_embeddings_OD_loss: 3.2527 - crc_embeddings_TICKET_loss: 0.5258 - crc_embeddings_WHO_loss: 0.4720 - crc_embeddings_AGE_loss: 0.4045 - crc_embeddings_INCOME_loss: 0.2531\n",
      "Epoch 78/80\n",
      "6414/6414 [==============================] - 1s 116us/step - loss: 7.2130 - output_layer_loss: 0.7726 - crc_embeddings_OD_loss: 3.2542 - crc_embeddings_TICKET_loss: 0.5256 - crc_embeddings_WHO_loss: 0.4683 - crc_embeddings_AGE_loss: 0.4052 - crc_embeddings_INCOME_loss: 0.2586\n",
      "Epoch 79/80\n",
      "6414/6414 [==============================] - 1s 117us/step - loss: 7.2051 - output_layer_loss: 0.7677 - crc_embeddings_OD_loss: 3.2565 - crc_embeddings_TICKET_loss: 0.5231 - crc_embeddings_WHO_loss: 0.4705 - crc_embeddings_AGE_loss: 0.4043 - crc_embeddings_INCOME_loss: 0.2541\n",
      "Epoch 80/80\n",
      "6414/6414 [==============================] - 1s 117us/step - loss: 7.2030 - output_layer_loss: 0.7680 - crc_embeddings_OD_loss: 3.2523 - crc_embeddings_TICKET_loss: 0.5284 - crc_embeddings_WHO_loss: 0.4685 - crc_embeddings_AGE_loss: 0.3978 - crc_embeddings_INCOME_loss: 0.2580\n"
     ]
    }
   ],
   "source": [
    "m, embs=pt.fit(sw_df_train[emb_vars], sw_df_train[y_var], sw_df_train[ex_vars], xlabels=emb_vars, EPOCHS=80, VALIDATION_SPLIT=0.0, verbose=1, EMB_SIZE=EMB_SIZES)"
   ]
  },
  {
   "cell_type": "markdown",
   "metadata": {},
   "source": [
    "The typical loss plot"
   ]
  },
  {
   "cell_type": "code",
   "execution_count": 84,
   "metadata": {
    "scrolled": false
   },
   "outputs": [
    {
     "data": {
      "image/png": "[encoded data removed]",
      "text/plain": [
       "<Figure size 1152x432 with 1 Axes>"
      ]
     },
     "metadata": {
      "needs_background": "light"
     },
     "output_type": "display_data"
    }
   ],
   "source": [
    "plt.figure(figsize=(16,6))\n",
    "plt.plot(pt.model.history.history['loss'])\n",
    "#plt.plot(pt.model.history.history['val_loss'])\n",
    "plt.legend(['loss'])#, 'val loss'])\n",
    "plt.xlabel(\"epoch\")\n",
    "plt.ylabel(\"categorical cross-entropy loss\")\n",
    "plt.show()"
   ]
  },
  {
   "cell_type": "markdown",
   "metadata": {},
   "source": [
    "And now the MDS visualizations of the embeddings (see paper)\n",
    "\n",
    "**note: as the paper mentions, the axes do not mean anything in particular. More importantly, each time we run this, we may get different rotations (but the distances remain).**"
   ]
  },
  {
   "cell_type": "code",
   "execution_count": 85,
   "metadata": {},
   "outputs": [
    {
     "data": {
      "image/png": "[encoded data removed]",
      "text/plain": [
       "<Figure size 432x288 with 1 Axes>"
      ]
     },
     "metadata": {
      "needs_background": "light"
     },
     "output_type": "display_data"
    }
   ],
   "source": [
    "pt.visualize_embeddings(pt.embeddings_dic['OD']['embeddings'], pt.embeddings_dic['OD']['index2alfa_from'], adjust=False, fromlabel='OD', tolabel=\"Mode\")\n"
   ]
  },
  {
   "cell_type": "code",
   "execution_count": 86,
   "metadata": {},
   "outputs": [
    {
     "data": {
      "image/png": "[encoded data removed]",
      "text/plain": [
       "<Figure size 432x288 with 1 Axes>"
      ]
     },
     "metadata": {
      "needs_background": "light"
     },
     "output_type": "display_data"
    }
   ],
   "source": [
    "pt.visualize_embeddings(pt.embeddings_dic['TICKET']['embeddings'], pt.embeddings_dic['TICKET']['index2alfa_from'], adjust=False, fromlabel='TICKET', tolabel=\"Mode\")"
   ]
  },
  {
   "cell_type": "code",
   "execution_count": 87,
   "metadata": {},
   "outputs": [
    {
     "data": {
      "image/png": "[encoded data removed]",
      "text/plain": [
       "<Figure size 432x288 with 1 Axes>"
      ]
     },
     "metadata": {
      "needs_background": "light"
     },
     "output_type": "display_data"
    }
   ],
   "source": [
    "pt.visualize_embeddings(pt.embeddings_dic['WHO']['embeddings'], pt.embeddings_dic['WHO']['index2alfa_from'], adjust=False, fromlabel='WHO', tolabel=\"Mode\")\n"
   ]
  },
  {
   "cell_type": "code",
   "execution_count": 88,
   "metadata": {},
   "outputs": [
    {
     "data": {
      "image/png": "[encoded data removed]",
      "text/plain": [
       "<Figure size 432x288 with 1 Axes>"
      ]
     },
     "metadata": {
      "needs_background": "light"
     },
     "output_type": "display_data"
    }
   ],
   "source": [
    "\n",
    "pt.visualize_embeddings(pt.embeddings_dic['AGE']['embeddings'], pt.embeddings_dic['AGE']['index2alfa_from'], adjust=False, fromlabel='AGE', tolabel=\"Mode\")\n"
   ]
  },
  {
   "cell_type": "code",
   "execution_count": 89,
   "metadata": {},
   "outputs": [
    {
     "data": {
      "image/png": "[encoded data removed]",
      "text/plain": [
       "<Figure size 432x288 with 1 Axes>"
      ]
     },
     "metadata": {
      "needs_background": "light"
     },
     "output_type": "display_data"
    }
   ],
   "source": [
    "pt.visualize_embeddings(pt.embeddings_dic['INCOME']['embeddings'], pt.embeddings_dic['INCOME']['index2alfa_from'], adjust=False, fromlabel='INCOME', tolabel=\"Mode\")"
   ]
  },
  {
   "cell_type": "markdown",
   "metadata": {},
   "source": [
    "It is often useful to plot the distance distribution for an embeddings matrix. If this distribution is concentrated around the same value (i.e. all categories fall in roughly the same distance from each other), then an embeddings encoding will not add much value in comparison with dummies.\n",
    "\n",
    "A particular case is when there is high concentration around zero. This means that at least some of the categories can just be grouped together into a single one (e.g. a single dummy variable)."
   ]
  },
  {
   "cell_type": "code",
   "execution_count": 90,
   "metadata": {},
   "outputs": [],
   "source": [
    "def plot_distance_histogram(embs, bins=None):\n",
    "        if embs in pt.embeddings_dic.keys():\n",
    "            embs=pt.embeddings_dic[embs]['embeddings']\n",
    "            \n",
    "        distances=[]\n",
    "        \n",
    "        for e1 in embs:\n",
    "            for e2 in embs:\n",
    "                if (e1==e2).all():\n",
    "                    continue\n",
    "                distances.append(np.linalg.norm(e1-e2))\n",
    "                \n",
    "        if bins!=None:\n",
    "            plt.hist(distances, bins)\n",
    "        else:\n",
    "            plt.hist(distances)\n",
    "        plt.show()\n"
   ]
  },
  {
   "cell_type": "markdown",
   "metadata": {},
   "source": [
    "Let's do for the ODs"
   ]
  },
  {
   "cell_type": "code",
   "execution_count": 91,
   "metadata": {},
   "outputs": [
    {
     "data": {
      "image/png": "[encoded data removed]",
      "text/plain": [
       "<Figure size 432x288 with 1 Axes>"
      ]
     },
     "metadata": {
      "needs_background": "light"
     },
     "output_type": "display_data"
    }
   ],
   "source": [
    "plot_distance_histogram('OD', 20)"
   ]
  },
  {
   "cell_type": "markdown",
   "metadata": {},
   "source": [
    "As mentioned in the paper, the vast majority of the ODs don't really distinguish much from each other, which means that they could be grouped into one. There are, however, a few exceptions, and this is clear in the picture..."
   ]
  },
  {
   "cell_type": "markdown",
   "metadata": {},
   "source": [
    "The paper also shows that TICKET variable is not very successful"
   ]
  },
  {
   "cell_type": "code",
   "execution_count": 97,
   "metadata": {},
   "outputs": [
    {
     "data": {
      "image/png": "[encoded data removed]",
      "text/plain": [
       "<Figure size 432x288 with 1 Axes>"
      ]
     },
     "metadata": {
      "needs_background": "light"
     },
     "output_type": "display_data"
    }
   ],
   "source": [
    "plot_distance_histogram('TICKET', 10)"
   ]
  },
  {
   "cell_type": "markdown",
   "metadata": {},
   "source": [
    "What does this mean?..."
   ]
  },
  {
   "cell_type": "markdown",
   "metadata": {},
   "source": [
    "------------------------------------------"
   ]
  },
  {
   "cell_type": "markdown",
   "metadata": {},
   "source": [
    "## Original PyLogit model estimation "
   ]
  },
  {
   "cell_type": "markdown",
   "metadata": {},
   "source": [
    "Pylogit needs data in the \"Long format\", so let's use the prepared file (to see how it's created, check swissmetro_data_prep paper.ipynb)"
   ]
  },
  {
   "cell_type": "code",
   "execution_count": 98,
   "metadata": {
    "scrolled": true
   },
   "outputs": [],
   "source": [
    "long_swiss_metro_full=pd.read_csv(\"long_swissmetro_rand.dat\")\n"
   ]
  },
  {
   "cell_type": "code",
   "execution_count": 99,
   "metadata": {},
   "outputs": [],
   "source": [
    "long_swiss_metro=pair_up(long_swiss_metro_full, \"OD\", ['ORIGIN', 'DEST'], True)"
   ]
  },
  {
   "cell_type": "markdown",
   "metadata": {},
   "source": [
    "Given the relatively small size of the dataset, it's not surprising that there may be OD pairs that happen to only be observed in the test set - this would later crash any of the algorithms, so we remove them"
   ]
  },
  {
   "cell_type": "code",
   "execution_count": 100,
   "metadata": {},
   "outputs": [],
   "source": [
    "\n",
    "all_ODs=list(long_swiss_metro['OD'].unique())\n",
    "\n",
    "remove_ODs=[od for od in all_ODs if od not in list(pt.embeddings_dic['OD']['index2alfa_from'].values())]\n",
    "for r in remove_ODs:\n",
    "    long_swiss_metro=long_swiss_metro[long_swiss_metro.OD!=r]\n"
   ]
  },
  {
   "cell_type": "markdown",
   "metadata": {},
   "source": [
    "This is the list of ODs that are NOT in the training set but can be found in the test set"
   ]
  },
  {
   "cell_type": "code",
   "execution_count": 101,
   "metadata": {},
   "outputs": [
    {
     "name": "stdout",
     "output_type": "stream",
     "text": [
      "['VD_VD', 'TH_AG', 'AR_AG', 'AR_GE', 'TH_VS', 'GE_JU', 'BE_ZG', 'FR_GR', 'SG_VS', 'TI_VD', 'SG_ZG', 'SZ_VD']\n"
     ]
    }
   ],
   "source": [
    "print(remove_ODs)"
   ]
  },
  {
   "cell_type": "markdown",
   "metadata": {},
   "source": [
    "Same treatment as before, for interpretability of the results"
   ]
  },
  {
   "cell_type": "code",
   "execution_count": 102,
   "metadata": {},
   "outputs": [],
   "source": [
    "long_swiss_metro=update_table_codes(tickets, long_swiss_metro, 'TICKET')\n",
    "long_swiss_metro=update_table_codes(ages, long_swiss_metro, 'AGE')\n",
    "long_swiss_metro=update_table_codes(incomes, long_swiss_metro, 'INCOME')\n",
    "long_swiss_metro=update_table_codes(whos, long_swiss_metro, 'WHO')"
   ]
  },
  {
   "cell_type": "markdown",
   "metadata": {},
   "source": [
    "The code below comes from the PyLogit example, which is also with Swissmetro. We're essentially creating a few variables that are needed for the MNL estimation"
   ]
  },
  {
   "cell_type": "code",
   "execution_count": 103,
   "metadata": {},
   "outputs": [],
   "source": [
    "# Create the list of individual specific variables\n",
    "ind_variables = sw_df.columns.tolist()[:15]\n",
    "\n",
    "# Specify the variables that vary across individuals and some or all alternatives\n",
    "# The keys are the column names that will be used in the long format dataframe.\n",
    "# The values are dictionaries whose key-value pairs are the alternative id and\n",
    "# the column name of the corresponding column that encodes that variable for\n",
    "# the given alternative. Examples below.\n",
    "alt_varying_variables = {u'travel_time': dict([(1, 'TRAIN_TT'),\n",
    "                                               (2, 'SM_TT'),\n",
    "                                               (3, 'CAR_TT')]),\n",
    "                          u'travel_cost': dict([(1, 'TRAIN_CO'),\n",
    "                                                (2, 'SM_CO'),\n",
    "                                                (3, 'CAR_CO')]),\n",
    "                          u'headway': dict([(1, 'TRAIN_HE'),\n",
    "                                            (2, 'SM_HE')]),\n",
    "                          u'seat_configuration': dict([(2, \"SM_SEATS\")])}\n",
    "\n",
    "# Specify the availability variables\n",
    "# Note that the keys of the dictionary are the alternative id's.\n",
    "# The values are the columns denoting the availability for the\n",
    "# given mode in the dataset.\n",
    "availability_variables = {1: 'TRAIN_AV',\n",
    "                          2: 'SM_AV', \n",
    "                          3: 'CAR_AV'}\n",
    "\n",
    "##########\n",
    "# Determine the columns for: alternative ids, the observation ids and the choice\n",
    "##########\n",
    "# The 'custom_alt_id' is the name of a column to be created in the long-format data\n",
    "# It will identify the alternative associated with each row.\n",
    "custom_alt_id = \"mode_id\"\n",
    "\n",
    "# Create a custom id column that ignores the fact that this is a \n",
    "# panel/repeated-observations dataset. Note the +1 ensures the id's start at one.\n",
    "obs_id_column = \"custom_id\"\n",
    "sw_df[obs_id_column] = np.arange(sw_df.shape[0],\n",
    "                                            dtype=int) + 1\n",
    "\n",
    "\n",
    "# Create a variable recording the choice column\n",
    "choice_column = \"CHOICE\""
   ]
  },
  {
   "cell_type": "code",
   "execution_count": 104,
   "metadata": {},
   "outputs": [],
   "source": [
    "##########\n",
    "# Create scaled variables so the estimated coefficients are of similar magnitudes\n",
    "##########\n",
    "# Scale the travel time column by 60 to convert raw units (minutes) to hours\n",
    "long_swiss_metro[\"travel_time_hrs\"] = long_swiss_metro[\"travel_time\"] / 60.0\n",
    "\n",
    "# Scale the headway column by 60 to convert raw units (minutes) to hours\n",
    "long_swiss_metro[\"headway_hrs\"] = long_swiss_metro[\"headway\"] / 60.0\n",
    "\n",
    "# Figure out who doesn't incur a marginal cost for the ticket\n",
    "# This can be because he/she owns an annual season pass (GA == 1) \n",
    "# or because his/her employer pays for the ticket (WHO == 2).\n",
    "# Note that all the other complexity in figuring out ticket costs\n",
    "# have been accounted for except the GA pass (the annual season\n",
    "# ticket). Make sure this dummy variable is only equal to 1 for\n",
    "# the rows with the Train or Swissmetro\n",
    "long_swiss_metro[\"free_ticket\"] = (((long_swiss_metro[\"GA\"] == 1) |\n",
    "                                    (long_swiss_metro[\"WHO\"] == 2)) &\n",
    "                                   long_swiss_metro[custom_alt_id].isin([1,2])).astype(int)\n",
    "# Scale the travel cost by 100 so estimated coefficients are of similar magnitude\n",
    "# and acccount for ownership of a season pass\n",
    "long_swiss_metro[\"travel_cost_hundreth\"] = (long_swiss_metro[\"travel_cost\"] *\n",
    "                                            (long_swiss_metro[\"free_ticket\"] == 0) /\n",
    "                                            100.0)\n",
    "\n",
    "##########\n",
    "# Create various dummy variables to describe the choice context of a given\n",
    "# invidual for each choice task.\n",
    "##########\n",
    "# Create a dummy variable for whether a person has a single piece of luggage\n",
    "long_swiss_metro[\"single_luggage_piece\"] = (long_swiss_metro[\"LUGGAGE\"] == 1).astype(int)\n",
    "\n",
    "# Create a dummy variable for whether a person has multiple pieces of luggage\n",
    "long_swiss_metro[\"multiple_luggage_pieces\"] = (long_swiss_metro[\"LUGGAGE\"] == 3).astype(int)\n",
    "\n",
    "# Create a dummy variable indicating that a person is NOT first class\n",
    "long_swiss_metro[\"regular_class\"] = 1 - long_swiss_metro[\"FIRST\"]\n",
    "\n",
    "# Create a dummy variable indicating that the survey was taken aboard a train\n",
    "# Note that such passengers are a-priori imagined to be somewhat partial to train modes\n",
    "long_swiss_metro[\"train_survey\"] = 1 - long_swiss_metro[\"SURVEY\"]\n"
   ]
  },
  {
   "cell_type": "markdown",
   "metadata": {},
   "source": [
    "Since we will repeat multiple estimations that extend on the same original basis, we have this function will be called at the beggining of each new model specification. All these elements will be repeated in all models. "
   ]
  },
  {
   "cell_type": "code",
   "execution_count": 105,
   "metadata": {},
   "outputs": [],
   "source": [
    "def create_spec():\n",
    "    # NOTE: - Specification and variable names must be ordered dictionaries.\n",
    "    #       - Keys should be variables within the long format dataframe.\n",
    "    #         The sole exception to this is the \"intercept\" key.\n",
    "    #       - For the specification dictionary, the values should be lists\n",
    "    #         of integers or lists of lists of integers. Within a list, \n",
    "    #         or within the inner-most list, the integers should be the \n",
    "    #         alternative ID's of the alternative whose utility specification \n",
    "    #         the explanatory variable is entering. Lists of lists denote \n",
    "    #         alternatives that will share a common coefficient for the variable\n",
    "    #         in question.\n",
    "\n",
    "    basic_specification = OrderedDict()\n",
    "    basic_names = OrderedDict()\n",
    "\n",
    "    basic_specification[\"intercept\"] = [1, 2]\n",
    "    basic_names[\"intercept\"] = ['ASC Train',\n",
    "                                'ASC Swissmetro']\n",
    "\n",
    "    basic_specification[\"travel_time_hrs\"] = [[1, 2,], 3]\n",
    "    basic_names[\"travel_time_hrs\"] = ['Travel Time, units:hrs (Train and Swissmetro)',\n",
    "                                      'Travel Time, units:hrs (Car)']\n",
    "\n",
    "    basic_specification[\"travel_cost_hundreth\"] = [1, 2, 3]\n",
    "    basic_names[\"travel_cost_hundreth\"] = ['Travel Cost * (Annual Pass == 0), units: 0.01 CHF (Train)',\n",
    "                                           'Travel Cost * (Annual Pass == 0), units: 0.01 CHF (Swissmetro)',\n",
    "                                           'Travel Cost, units: 0.01 CHF (Car)']\n",
    "\n",
    "    basic_specification[\"headway_hrs\"] = [1, 2]\n",
    "    basic_names[\"headway_hrs\"] = [\"Headway, units:hrs, (Train)\",\n",
    "                                  \"Headway, units:hrs, (Swissmetro)\"]\n",
    "\n",
    "    basic_specification[\"seat_configuration\"] = [2]\n",
    "    basic_names[\"seat_configuration\"] = ['Airline Seat Configuration, base=No (Swissmetro)']\n",
    "\n",
    "    basic_specification[\"train_survey\"] = [[1, 2]]\n",
    "    basic_names[\"train_survey\"] = [\"Surveyed on a Train, base=No, (Train and Swissmetro)\"]\n",
    "\n",
    "    basic_specification[\"regular_class\"] = [1]\n",
    "    basic_names[\"regular_class\"] = [\"First Class == False, (Swissmetro)\"]\n",
    "\n",
    "    basic_specification[\"single_luggage_piece\"] = [3]\n",
    "    basic_names[\"single_luggage_piece\"] = [\"Number of Luggage Pieces == 1, (Car)\"]\n",
    "\n",
    "    basic_specification[\"multiple_luggage_pieces\"] = [3]\n",
    "    basic_names[\"multiple_luggage_pieces\"] = [\"Number of Luggage Pieces > 1, (Car)\"]\n",
    "    \n",
    "    return basic_specification, basic_names\n"
   ]
  },
  {
   "cell_type": "markdown",
   "metadata": {},
   "source": [
    "Our experiemental design expects that the training set of embeddings is the same one as all other models (it could be different, if we wanted to assume that we had a prior dataset only for embeddings/eigenvectors training, as we also do in section 5.6 of the paper, \"Embeddings for efficient survey data usage\"). "
   ]
  },
  {
   "cell_type": "code",
   "execution_count": 106,
   "metadata": {},
   "outputs": [],
   "source": [
    "long_swiss_metro_train,long_swiss_metro_test=train_test_split(long_swiss_metro, train_size=SPLIT_EMBEDDINGS_DCM, shuffle=False)"
   ]
  },
  {
   "cell_type": "markdown",
   "metadata": {},
   "source": [
    "Notice that this time we keep a testset variable, that will be used later to validate the model"
   ]
  },
  {
   "cell_type": "markdown",
   "metadata": {},
   "source": [
    "\n",
    "As said, we start with the simplest of the models (the original one in PyLogit package)"
   ]
  },
  {
   "cell_type": "code",
   "execution_count": 107,
   "metadata": {},
   "outputs": [],
   "source": [
    "basic_specification, basic_names=create_spec()"
   ]
  },
  {
   "cell_type": "code",
   "execution_count": 108,
   "metadata": {},
   "outputs": [],
   "source": [
    "long_swiss_metro_train_train,long_swiss_metro_train_train_dev=train_test_split(long_swiss_metro_train, train_size=TRAINSET_WITHOUT_DEV, shuffle=False)\n"
   ]
  },
  {
   "cell_type": "code",
   "execution_count": 111,
   "metadata": {},
   "outputs": [
    {
     "name": "stdout",
     "output_type": "stream",
     "text": [
      "Log-likelihood at zero: -6,559.9046\n",
      "Initial Log-likelihood: -6,559.9046\n",
      "Estimation Time for Point Estimation: 0.37 seconds.\n",
      "Final log-likelihood: -4,695.8156\n"
     ]
    },
    {
     "data": {
      "text/html": [
       "<table class=\"simpletable\">\n",
       "<caption>Multinomial Logit Model Regression Results</caption>\n",
       "<tr>\n",
       "  <th>Dep. Variable:</th>         <td>CHOICE</td>          <th>  No. Observations:  </th>    <td>6,373</td>  \n",
       "</tr>\n",
       "<tr>\n",
       "  <th>Model:</th>         <td>Multinomial Logit Model</td> <th>  Df Residuals:      </th>    <td>6,359</td>  \n",
       "</tr>\n",
       "<tr>\n",
       "  <th>Method:</th>                  <td>MLE</td>           <th>  Df Model:          </th>     <td>14</td>    \n",
       "</tr>\n",
       "<tr>\n",
       "  <th>Date:</th>             <td>Fri, 30 Aug 2019</td>     <th>  Pseudo R-squ.:     </th>    <td>0.284</td>  \n",
       "</tr>\n",
       "<tr>\n",
       "  <th>Time:</th>                 <td>01:16:32</td>         <th>  Pseudo R-bar-squ.: </th>    <td>0.282</td>  \n",
       "</tr>\n",
       "<tr>\n",
       "  <th>AIC:</th>                  <td>9,419.631</td>        <th>  Log-Likelihood:    </th> <td>-4,695.816</td>\n",
       "</tr>\n",
       "<tr>\n",
       "  <th>BIC:</th>                  <td>9,514.269</td>        <th>  LL-Null:           </th> <td>-6,559.905</td>\n",
       "</tr>\n",
       "</table>\n",
       "<table class=\"simpletable\">\n",
       "<tr>\n",
       "                                 <td></td>                                   <th>coef</th>     <th>std err</th>      <th>z</th>      <th>P>|z|</th>  <th>[0.025</th>    <th>0.975]</th>  \n",
       "</tr>\n",
       "<tr>\n",
       "  <th>ASC Train</th>                                                      <td>   -0.5660</td> <td>    0.158</td> <td>   -3.575</td> <td> 0.000</td> <td>   -0.876</td> <td>   -0.256</td>\n",
       "</tr>\n",
       "<tr>\n",
       "  <th>ASC Swissmetro</th>                                                 <td>   -0.3532</td> <td>    0.121</td> <td>   -2.929</td> <td> 0.003</td> <td>   -0.590</td> <td>   -0.117</td>\n",
       "</tr>\n",
       "<tr>\n",
       "  <th>Travel Time, units:hrs (Train and Swissmetro)</th>                  <td>   -0.6815</td> <td>    0.041</td> <td>  -16.432</td> <td> 0.000</td> <td>   -0.763</td> <td>   -0.600</td>\n",
       "</tr>\n",
       "<tr>\n",
       "  <th>Travel Time, units:hrs (Car)</th>                                   <td>   -0.7186</td> <td>    0.049</td> <td>  -14.752</td> <td> 0.000</td> <td>   -0.814</td> <td>   -0.623</td>\n",
       "</tr>\n",
       "<tr>\n",
       "  <th>Travel Cost * (Annual Pass == 0), units: 0.01 CHF (Train)</th>      <td>   -1.6303</td> <td>    0.096</td> <td>  -17.055</td> <td> 0.000</td> <td>   -1.818</td> <td>   -1.443</td>\n",
       "</tr>\n",
       "<tr>\n",
       "  <th>Travel Cost * (Annual Pass == 0), units: 0.01 CHF (Swissmetro)</th> <td>   -0.7797</td> <td>    0.047</td> <td>  -16.458</td> <td> 0.000</td> <td>   -0.872</td> <td>   -0.687</td>\n",
       "</tr>\n",
       "<tr>\n",
       "  <th>Travel Cost, units: 0.01 CHF (Car)</th>                             <td>   -1.0766</td> <td>    0.116</td> <td>   -9.271</td> <td> 0.000</td> <td>   -1.304</td> <td>   -0.849</td>\n",
       "</tr>\n",
       "<tr>\n",
       "  <th>Headway, units:hrs, (Train)</th>                                    <td>   -0.3296</td> <td>    0.065</td> <td>   -5.102</td> <td> 0.000</td> <td>   -0.456</td> <td>   -0.203</td>\n",
       "</tr>\n",
       "<tr>\n",
       "  <th>Headway, units:hrs, (Swissmetro)</th>                               <td>   -0.5052</td> <td>    0.203</td> <td>   -2.484</td> <td> 0.013</td> <td>   -0.904</td> <td>   -0.107</td>\n",
       "</tr>\n",
       "<tr>\n",
       "  <th>Airline Seat Configuration, base=No (Swissmetro)</th>               <td>   -0.5768</td> <td>    0.093</td> <td>   -6.192</td> <td> 0.000</td> <td>   -0.759</td> <td>   -0.394</td>\n",
       "</tr>\n",
       "<tr>\n",
       "  <th>Surveyed on a Train, base=No, (Train and Swissmetro)</th>           <td>    3.0548</td> <td>    0.141</td> <td>   21.732</td> <td> 0.000</td> <td>    2.779</td> <td>    3.330</td>\n",
       "</tr>\n",
       "<tr>\n",
       "  <th>First Class == False, (Swissmetro)</th>                             <td>    0.0408</td> <td>    0.084</td> <td>    0.483</td> <td> 0.629</td> <td>   -0.125</td> <td>    0.206</td>\n",
       "</tr>\n",
       "<tr>\n",
       "  <th>Number of Luggage Pieces == 1, (Car)</th>                           <td>    0.3868</td> <td>    0.070</td> <td>    5.564</td> <td> 0.000</td> <td>    0.251</td> <td>    0.523</td>\n",
       "</tr>\n",
       "<tr>\n",
       "  <th>Number of Luggage Pieces > 1, (Car)</th>                            <td>    2.0613</td> <td>    0.364</td> <td>    5.659</td> <td> 0.000</td> <td>    1.347</td> <td>    2.775</td>\n",
       "</tr>\n",
       "</table>"
      ],
      "text/plain": [
       "<class 'statsmodels.iolib.summary.Summary'>\n",
       "\"\"\"\n",
       "                     Multinomial Logit Model Regression Results                    \n",
       "===================================================================================\n",
       "Dep. Variable:                      CHOICE   No. Observations:                6,373\n",
       "Model:             Multinomial Logit Model   Df Residuals:                    6,359\n",
       "Method:                                MLE   Df Model:                           14\n",
       "Date:                     Fri, 30 Aug 2019   Pseudo R-squ.:                   0.284\n",
       "Time:                             01:16:32   Pseudo R-bar-squ.:               0.282\n",
       "AIC:                             9,419.631   Log-Likelihood:             -4,695.816\n",
       "BIC:                             9,514.269   LL-Null:                    -6,559.905\n",
       "==================================================================================================================================\n",
       "                                                                     coef    std err          z      P>|z|      [0.025      0.975]\n",
       "----------------------------------------------------------------------------------------------------------------------------------\n",
       "ASC Train                                                         -0.5660      0.158     -3.575      0.000      -0.876      -0.256\n",
       "ASC Swissmetro                                                    -0.3532      0.121     -2.929      0.003      -0.590      -0.117\n",
       "Travel Time, units:hrs (Train and Swissmetro)                     -0.6815      0.041    -16.432      0.000      -0.763      -0.600\n",
       "Travel Time, units:hrs (Car)                                      -0.7186      0.049    -14.752      0.000      -0.814      -0.623\n",
       "Travel Cost * (Annual Pass == 0), units: 0.01 CHF (Train)         -1.6303      0.096    -17.055      0.000      -1.818      -1.443\n",
       "Travel Cost * (Annual Pass == 0), units: 0.01 CHF (Swissmetro)    -0.7797      0.047    -16.458      0.000      -0.872      -0.687\n",
       "Travel Cost, units: 0.01 CHF (Car)                                -1.0766      0.116     -9.271      0.000      -1.304      -0.849\n",
       "Headway, units:hrs, (Train)                                       -0.3296      0.065     -5.102      0.000      -0.456      -0.203\n",
       "Headway, units:hrs, (Swissmetro)                                  -0.5052      0.203     -2.484      0.013      -0.904      -0.107\n",
       "Airline Seat Configuration, base=No (Swissmetro)                  -0.5768      0.093     -6.192      0.000      -0.759      -0.394\n",
       "Surveyed on a Train, base=No, (Train and Swissmetro)               3.0548      0.141     21.732      0.000       2.779       3.330\n",
       "First Class == False, (Swissmetro)                                 0.0408      0.084      0.483      0.629      -0.125       0.206\n",
       "Number of Luggage Pieces == 1, (Car)                               0.3868      0.070      5.564      0.000       0.251       0.523\n",
       "Number of Luggage Pieces > 1, (Car)                                2.0613      0.364      5.659      0.000       1.347       2.775\n",
       "==================================================================================================================================\n",
       "\"\"\""
      ]
     },
     "execution_count": 111,
     "metadata": {},
     "output_type": "execute_result"
    }
   ],
   "source": [
    "# Estimate the multinomial logit model (MNL)\n",
    "swissmetro_mnl = pl.create_choice_model(data=long_swiss_metro_train_train,\n",
    "                                        alt_id_col=custom_alt_id,\n",
    "                                        obs_id_col=obs_id_column,\n",
    "                                        choice_col=choice_column,\n",
    "                                        specification=basic_specification,\n",
    "                                        model_type=\"MNL\",\n",
    "                                        names=basic_names)\n",
    "\n",
    "\n",
    "deg_freedom=sum([len(b) for b in basic_specification.values()])\n",
    "# Specify the initial values and method for the optimization.\n",
    "swissmetro_mnl.fit_mle(np.zeros(deg_freedom))\n",
    "\n",
    "# Look at the estimation results\n",
    "swissmetro_mnl.get_statsmodels_summary()"
   ]
  },
  {
   "cell_type": "markdown",
   "metadata": {},
   "source": [
    "We will need to get statistics for the testset\n"
   ]
  },
  {
   "cell_type": "code",
   "execution_count": 112,
   "metadata": {
    "scrolled": true
   },
   "outputs": [
    {
     "name": "stdout",
     "output_type": "stream",
     "text": [
      "model results for ORIGINAL (2003 observations, 14 degrees of freedom)\n",
      "Log likelihood (testset)=-1486.265921\n",
      "R^2 test=0.279362 & adjusted R^2 test=0.274288\n",
      "AIC test=3000.531842 & BIC test=3078.970119\n"
     ]
    }
   ],
   "source": [
    "testsetsize=len(long_swiss_metro_test)/3 #We divide by 3, because it's a long format (three rows per data point, one per choice)\n",
    "\n",
    "#Calculation of log likelihood for the testset\n",
    "long_probs=swissmetro_mnl.predict(long_swiss_metro_test)\n",
    "SCORE=sum([np.log(x) for x in np.multiply(long_probs, long_swiss_metro_test['CHOICE']) if x!=0.0])\n",
    "\n",
    "SCORE_ORIGINAL=SCORE\n",
    "\n",
    "#calculation of the several metrics\n",
    "obs_ll=swissmetro_mnl.null_log_likelihood/swissmetro_mnl.nobs #this extracts the null likelihood per observation \n",
    "rsq=1-(SCORE/(obs_ll*testsetsize)) \n",
    "adjrsq=rsq-(1-rsq)*deg_freedom/(testsetsize-deg_freedom-1)\n",
    "AIC=2*deg_freedom-2*SCORE\n",
    "BIC=math.log(testsetsize)*deg_freedom-2*SCORE\n",
    "print(\"model results for ORIGINAL (%d observations, %d degrees of freedom)\"%(testsetsize,deg_freedom))\n",
    "print(\"Log likelihood (testset)=%f\"%SCORE)\n",
    "print(\"R^2 test=%f & adjusted R^2 test=%f\"%(rsq, adjrsq))\n",
    "print(\"AIC test=%f & BIC test=%f\"%(AIC, BIC))    \n"
   ]
  },
  {
   "cell_type": "markdown",
   "metadata": {},
   "source": [
    "-------------------"
   ]
  },
  {
   "cell_type": "markdown",
   "metadata": {},
   "source": [
    "## Now with embeddings in the ODs"
   ]
  },
  {
   "cell_type": "markdown",
   "metadata": {},
   "source": [
    "Let us now turn to the embeddings model. The first thing to do is to encode the corresponding variables. "
   ]
  },
  {
   "cell_type": "code",
   "execution_count": 113,
   "metadata": {},
   "outputs": [],
   "source": [
    "#This function replaces all values in emb_vars columns by their embeddings representations\n",
    "new_long_sw_df=pt.replace_with_embeddings(long_swiss_metro, emb_vars)"
   ]
  },
  {
   "cell_type": "markdown",
   "metadata": {},
   "source": [
    "We will now create the model MNL specification for embeddings. \n",
    "\n",
    "We need to go over the new variable names, but first lets create their list."
   ]
  },
  {
   "cell_type": "code",
   "execution_count": 114,
   "metadata": {},
   "outputs": [],
   "source": [
    "emb_vars_long=[item for sublist in [[v for v in new_long_sw_df.columns if v.startswith(x)] for x in emb_vars] for item in sublist]"
   ]
  },
  {
   "cell_type": "markdown",
   "metadata": {},
   "source": [
    "As mentioned, we start by reusing the original specification (create_spec()). And then, we associate the embeddings variables. Notice that \"TICKET\" only makes sense for the Train alternative. "
   ]
  },
  {
   "cell_type": "code",
   "execution_count": 115,
   "metadata": {},
   "outputs": [],
   "source": [
    "basic_specification, basic_names=create_spec()\n",
    "for emb in emb_vars_long: \n",
    "    if emb.startswith(\"TICKET\"):  #only for train\n",
    "        basic_specification[emb] = [1]\n",
    "        basic_names[emb] = [emb+\"_Train\"]\n",
    "    else:\n",
    "        #if emb.startswith(\"OD\"):\n",
    "        #    continue\n",
    "        basic_specification[emb] = [1,2]   #for train and SM (Car is the default category)\n",
    "        basic_names[emb] = [emb+\"_Train\", emb+\"_SM\"]"
   ]
  },
  {
   "cell_type": "markdown",
   "metadata": {},
   "source": [
    "The usual train/test split  and model estimation"
   ]
  },
  {
   "cell_type": "code",
   "execution_count": 117,
   "metadata": {},
   "outputs": [],
   "source": [
    "new_long_sw_df_train,new_long_sw_df_test=train_test_split(new_long_sw_df, train_size=SPLIT_EMBEDDINGS_DCM, shuffle=False)"
   ]
  },
  {
   "cell_type": "code",
   "execution_count": 118,
   "metadata": {},
   "outputs": [],
   "source": [
    "new_long_sw_df_train_without_dev,new_long_sw_df_dev=train_test_split(new_long_sw_df_train, train_size=TRAINSET_WITHOUT_DEV, shuffle=False)\n"
   ]
  },
  {
   "cell_type": "code",
   "execution_count": 120,
   "metadata": {},
   "outputs": [
    {
     "name": "stdout",
     "output_type": "stream",
     "text": [
      "Log-likelihood at zero: -6,559.9046\n",
      "Initial Log-likelihood: -6,559.9046\n",
      "Estimation Time for Point Estimation: 1.09 seconds.\n",
      "Final log-likelihood: -4,425.1578\n"
     ]
    },
    {
     "data": {
      "text/html": [
       "<table class=\"simpletable\">\n",
       "<caption>Multinomial Logit Model Regression Results</caption>\n",
       "<tr>\n",
       "  <th>Dep. Variable:</th>         <td>CHOICE</td>          <th>  No. Observations:  </th>    <td>6,373</td>  \n",
       "</tr>\n",
       "<tr>\n",
       "  <th>Model:</th>         <td>Multinomial Logit Model</td> <th>  Df Residuals:      </th>    <td>6,334</td>  \n",
       "</tr>\n",
       "<tr>\n",
       "  <th>Method:</th>                  <td>MLE</td>           <th>  Df Model:          </th>     <td>39</td>    \n",
       "</tr>\n",
       "<tr>\n",
       "  <th>Date:</th>             <td>Fri, 30 Aug 2019</td>     <th>  Pseudo R-squ.:     </th>    <td>0.325</td>  \n",
       "</tr>\n",
       "<tr>\n",
       "  <th>Time:</th>                 <td>01:17:13</td>         <th>  Pseudo R-bar-squ.: </th>    <td>0.319</td>  \n",
       "</tr>\n",
       "<tr>\n",
       "  <th>AIC:</th>                  <td>8,928.316</td>        <th>  Log-Likelihood:    </th> <td>-4,425.158</td>\n",
       "</tr>\n",
       "<tr>\n",
       "  <th>BIC:</th>                  <td>9,191.949</td>        <th>  LL-Null:           </th> <td>-6,559.905</td>\n",
       "</tr>\n",
       "</table>\n",
       "<table class=\"simpletable\">\n",
       "<tr>\n",
       "                                 <td></td>                                   <th>coef</th>     <th>std err</th>      <th>z</th>      <th>P>|z|</th>  <th>[0.025</th>    <th>0.975]</th>  \n",
       "</tr>\n",
       "<tr>\n",
       "  <th>ASC Train</th>                                                      <td>   -0.8342</td> <td>    0.198</td> <td>   -4.218</td> <td> 0.000</td> <td>   -1.222</td> <td>   -0.447</td>\n",
       "</tr>\n",
       "<tr>\n",
       "  <th>ASC Swissmetro</th>                                                 <td>   -0.3292</td> <td>    0.137</td> <td>   -2.400</td> <td> 0.016</td> <td>   -0.598</td> <td>   -0.060</td>\n",
       "</tr>\n",
       "<tr>\n",
       "  <th>Travel Time, units:hrs (Train and Swissmetro)</th>                  <td>   -0.6152</td> <td>    0.042</td> <td>  -14.521</td> <td> 0.000</td> <td>   -0.698</td> <td>   -0.532</td>\n",
       "</tr>\n",
       "<tr>\n",
       "  <th>Travel Time, units:hrs (Car)</th>                                   <td>   -0.7164</td> <td>    0.050</td> <td>  -14.467</td> <td> 0.000</td> <td>   -0.813</td> <td>   -0.619</td>\n",
       "</tr>\n",
       "<tr>\n",
       "  <th>Travel Cost * (Annual Pass == 0), units: 0.01 CHF (Train)</th>      <td>   -0.9530</td> <td>    0.099</td> <td>   -9.615</td> <td> 0.000</td> <td>   -1.147</td> <td>   -0.759</td>\n",
       "</tr>\n",
       "<tr>\n",
       "  <th>Travel Cost * (Annual Pass == 0), units: 0.01 CHF (Swissmetro)</th> <td>   -0.8625</td> <td>    0.050</td> <td>  -17.402</td> <td> 0.000</td> <td>   -0.960</td> <td>   -0.765</td>\n",
       "</tr>\n",
       "<tr>\n",
       "  <th>Travel Cost, units: 0.01 CHF (Car)</th>                             <td>   -0.9989</td> <td>    0.119</td> <td>   -8.393</td> <td> 0.000</td> <td>   -1.232</td> <td>   -0.766</td>\n",
       "</tr>\n",
       "<tr>\n",
       "  <th>Headway, units:hrs, (Train)</th>                                    <td>   -0.3967</td> <td>    0.070</td> <td>   -5.645</td> <td> 0.000</td> <td>   -0.534</td> <td>   -0.259</td>\n",
       "</tr>\n",
       "<tr>\n",
       "  <th>Headway, units:hrs, (Swissmetro)</th>                               <td>   -0.5891</td> <td>    0.206</td> <td>   -2.853</td> <td> 0.004</td> <td>   -0.994</td> <td>   -0.184</td>\n",
       "</tr>\n",
       "<tr>\n",
       "  <th>Airline Seat Configuration, base=No (Swissmetro)</th>               <td>   -0.4161</td> <td>    0.101</td> <td>   -4.113</td> <td> 0.000</td> <td>   -0.614</td> <td>   -0.218</td>\n",
       "</tr>\n",
       "<tr>\n",
       "  <th>Surveyed on a Train, base=No, (Train and Swissmetro)</th>           <td>    2.9397</td> <td>    0.144</td> <td>   20.394</td> <td> 0.000</td> <td>    2.657</td> <td>    3.222</td>\n",
       "</tr>\n",
       "<tr>\n",
       "  <th>First Class == False, (Swissmetro)</th>                             <td>   -0.0456</td> <td>    0.104</td> <td>   -0.437</td> <td> 0.662</td> <td>   -0.250</td> <td>    0.159</td>\n",
       "</tr>\n",
       "<tr>\n",
       "  <th>Number of Luggage Pieces == 1, (Car)</th>                           <td>    0.3558</td> <td>    0.071</td> <td>    5.012</td> <td> 0.000</td> <td>    0.217</td> <td>    0.495</td>\n",
       "</tr>\n",
       "<tr>\n",
       "  <th>Number of Luggage Pieces > 1, (Car)</th>                            <td>    1.9135</td> <td>    0.375</td> <td>    5.101</td> <td> 0.000</td> <td>    1.178</td> <td>    2.649</td>\n",
       "</tr>\n",
       "<tr>\n",
       "  <th>OD0_Train</th>                                                      <td>   -0.1061</td> <td>    0.086</td> <td>   -1.227</td> <td> 0.220</td> <td>   -0.276</td> <td>    0.063</td>\n",
       "</tr>\n",
       "<tr>\n",
       "  <th>OD0_SM</th>                                                         <td>   -0.1073</td> <td>    0.059</td> <td>   -1.828</td> <td> 0.068</td> <td>   -0.222</td> <td>    0.008</td>\n",
       "</tr>\n",
       "<tr>\n",
       "  <th>OD1_Train</th>                                                      <td>    0.1691</td> <td>    0.139</td> <td>    1.220</td> <td> 0.223</td> <td>   -0.103</td> <td>    0.441</td>\n",
       "</tr>\n",
       "<tr>\n",
       "  <th>OD1_SM</th>                                                         <td>    0.1596</td> <td>    0.078</td> <td>    2.035</td> <td> 0.042</td> <td>    0.006</td> <td>    0.313</td>\n",
       "</tr>\n",
       "<tr>\n",
       "  <th>OD2_Train</th>                                                      <td>    0.1663</td> <td>    0.145</td> <td>    1.144</td> <td> 0.253</td> <td>   -0.119</td> <td>    0.451</td>\n",
       "</tr>\n",
       "<tr>\n",
       "  <th>OD2_SM</th>                                                         <td>    0.3188</td> <td>    0.091</td> <td>    3.499</td> <td> 0.000</td> <td>    0.140</td> <td>    0.497</td>\n",
       "</tr>\n",
       "<tr>\n",
       "  <th>TICKET0_Train</th>                                                  <td>   29.2176</td> <td>    6.436</td> <td>    4.540</td> <td> 0.000</td> <td>   16.604</td> <td>   41.832</td>\n",
       "</tr>\n",
       "<tr>\n",
       "  <th>TICKET1_Train</th>                                                  <td>  -20.6966</td> <td>    4.696</td> <td>   -4.407</td> <td> 0.000</td> <td>  -29.901</td> <td>  -11.492</td>\n",
       "</tr>\n",
       "<tr>\n",
       "  <th>TICKET2_Train</th>                                                  <td>  -43.2896</td> <td>    9.451</td> <td>   -4.581</td> <td> 0.000</td> <td>  -61.812</td> <td>  -24.767</td>\n",
       "</tr>\n",
       "<tr>\n",
       "  <th>TICKET3_Train</th>                                                  <td>   -8.9151</td> <td>   14.193</td> <td>   -0.628</td> <td> 0.530</td> <td>  -36.733</td> <td>   18.903</td>\n",
       "</tr>\n",
       "<tr>\n",
       "  <th>TICKET4_Train</th>                                                  <td>    2.0451</td> <td>   15.166</td> <td>    0.135</td> <td> 0.893</td> <td>  -27.680</td> <td>   31.770</td>\n",
       "</tr>\n",
       "<tr>\n",
       "  <th>WHO0_Train</th>                                                     <td>    0.0412</td> <td>    0.035</td> <td>    1.190</td> <td> 0.234</td> <td>   -0.027</td> <td>    0.109</td>\n",
       "</tr>\n",
       "<tr>\n",
       "  <th>WHO0_SM</th>                                                        <td>   -0.1179</td> <td>    0.021</td> <td>   -5.517</td> <td> 0.000</td> <td>   -0.160</td> <td>   -0.076</td>\n",
       "</tr>\n",
       "<tr>\n",
       "  <th>AGE0_Train</th>                                                     <td>   -0.1674</td> <td>    0.059</td> <td>   -2.818</td> <td> 0.005</td> <td>   -0.284</td> <td>   -0.051</td>\n",
       "</tr>\n",
       "<tr>\n",
       "  <th>AGE0_SM</th>                                                        <td>    0.1342</td> <td>    0.044</td> <td>    3.046</td> <td> 0.002</td> <td>    0.048</td> <td>    0.220</td>\n",
       "</tr>\n",
       "<tr>\n",
       "  <th>AGE1_Train</th>                                                     <td>    0.2598</td> <td>    0.058</td> <td>    4.504</td> <td> 0.000</td> <td>    0.147</td> <td>    0.373</td>\n",
       "</tr>\n",
       "<tr>\n",
       "  <th>AGE1_SM</th>                                                        <td>   -0.1471</td> <td>    0.045</td> <td>   -3.275</td> <td> 0.001</td> <td>   -0.235</td> <td>   -0.059</td>\n",
       "</tr>\n",
       "<tr>\n",
       "  <th>AGE2_Train</th>                                                     <td>    0.1411</td> <td>    0.058</td> <td>    2.451</td> <td> 0.014</td> <td>    0.028</td> <td>    0.254</td>\n",
       "</tr>\n",
       "<tr>\n",
       "  <th>AGE2_SM</th>                                                        <td>   -0.0756</td> <td>    0.040</td> <td>   -1.881</td> <td> 0.060</td> <td>   -0.154</td> <td>    0.003</td>\n",
       "</tr>\n",
       "<tr>\n",
       "  <th>INCOME0_Train</th>                                                  <td>   -0.0612</td> <td>    0.056</td> <td>   -1.085</td> <td> 0.278</td> <td>   -0.172</td> <td>    0.049</td>\n",
       "</tr>\n",
       "<tr>\n",
       "  <th>INCOME0_SM</th>                                                     <td>    0.0721</td> <td>    0.045</td> <td>    1.589</td> <td> 0.112</td> <td>   -0.017</td> <td>    0.161</td>\n",
       "</tr>\n",
       "<tr>\n",
       "  <th>INCOME1_Train</th>                                                  <td>    0.1376</td> <td>    0.058</td> <td>    2.378</td> <td> 0.017</td> <td>    0.024</td> <td>    0.251</td>\n",
       "</tr>\n",
       "<tr>\n",
       "  <th>INCOME1_SM</th>                                                     <td>    0.0209</td> <td>    0.046</td> <td>    0.451</td> <td> 0.652</td> <td>   -0.070</td> <td>    0.112</td>\n",
       "</tr>\n",
       "<tr>\n",
       "  <th>INCOME2_Train</th>                                                  <td>   -0.1407</td> <td>    0.057</td> <td>   -2.488</td> <td> 0.013</td> <td>   -0.252</td> <td>   -0.030</td>\n",
       "</tr>\n",
       "<tr>\n",
       "  <th>INCOME2_SM</th>                                                     <td>    0.0064</td> <td>    0.041</td> <td>    0.155</td> <td> 0.877</td> <td>   -0.075</td> <td>    0.087</td>\n",
       "</tr>\n",
       "</table>"
      ],
      "text/plain": [
       "<class 'statsmodels.iolib.summary.Summary'>\n",
       "\"\"\"\n",
       "                     Multinomial Logit Model Regression Results                    \n",
       "===================================================================================\n",
       "Dep. Variable:                      CHOICE   No. Observations:                6,373\n",
       "Model:             Multinomial Logit Model   Df Residuals:                    6,334\n",
       "Method:                                MLE   Df Model:                           39\n",
       "Date:                     Fri, 30 Aug 2019   Pseudo R-squ.:                   0.325\n",
       "Time:                             01:17:13   Pseudo R-bar-squ.:               0.319\n",
       "AIC:                             8,928.316   Log-Likelihood:             -4,425.158\n",
       "BIC:                             9,191.949   LL-Null:                    -6,559.905\n",
       "==================================================================================================================================\n",
       "                                                                     coef    std err          z      P>|z|      [0.025      0.975]\n",
       "----------------------------------------------------------------------------------------------------------------------------------\n",
       "ASC Train                                                         -0.8342      0.198     -4.218      0.000      -1.222      -0.447\n",
       "ASC Swissmetro                                                    -0.3292      0.137     -2.400      0.016      -0.598      -0.060\n",
       "Travel Time, units:hrs (Train and Swissmetro)                     -0.6152      0.042    -14.521      0.000      -0.698      -0.532\n",
       "Travel Time, units:hrs (Car)                                      -0.7164      0.050    -14.467      0.000      -0.813      -0.619\n",
       "Travel Cost * (Annual Pass == 0), units: 0.01 CHF (Train)         -0.9530      0.099     -9.615      0.000      -1.147      -0.759\n",
       "Travel Cost * (Annual Pass == 0), units: 0.01 CHF (Swissmetro)    -0.8625      0.050    -17.402      0.000      -0.960      -0.765\n",
       "Travel Cost, units: 0.01 CHF (Car)                                -0.9989      0.119     -8.393      0.000      -1.232      -0.766\n",
       "Headway, units:hrs, (Train)                                       -0.3967      0.070     -5.645      0.000      -0.534      -0.259\n",
       "Headway, units:hrs, (Swissmetro)                                  -0.5891      0.206     -2.853      0.004      -0.994      -0.184\n",
       "Airline Seat Configuration, base=No (Swissmetro)                  -0.4161      0.101     -4.113      0.000      -0.614      -0.218\n",
       "Surveyed on a Train, base=No, (Train and Swissmetro)               2.9397      0.144     20.394      0.000       2.657       3.222\n",
       "First Class == False, (Swissmetro)                                -0.0456      0.104     -0.437      0.662      -0.250       0.159\n",
       "Number of Luggage Pieces == 1, (Car)                               0.3558      0.071      5.012      0.000       0.217       0.495\n",
       "Number of Luggage Pieces > 1, (Car)                                1.9135      0.375      5.101      0.000       1.178       2.649\n",
       "OD0_Train                                                         -0.1061      0.086     -1.227      0.220      -0.276       0.063\n",
       "OD0_SM                                                            -0.1073      0.059     -1.828      0.068      -0.222       0.008\n",
       "OD1_Train                                                          0.1691      0.139      1.220      0.223      -0.103       0.441\n",
       "OD1_SM                                                             0.1596      0.078      2.035      0.042       0.006       0.313\n",
       "OD2_Train                                                          0.1663      0.145      1.144      0.253      -0.119       0.451\n",
       "OD2_SM                                                             0.3188      0.091      3.499      0.000       0.140       0.497\n",
       "TICKET0_Train                                                     29.2176      6.436      4.540      0.000      16.604      41.832\n",
       "TICKET1_Train                                                    -20.6966      4.696     -4.407      0.000     -29.901     -11.492\n",
       "TICKET2_Train                                                    -43.2896      9.451     -4.581      0.000     -61.812     -24.767\n",
       "TICKET3_Train                                                     -8.9151     14.193     -0.628      0.530     -36.733      18.903\n",
       "TICKET4_Train                                                      2.0451     15.166      0.135      0.893     -27.680      31.770\n",
       "WHO0_Train                                                         0.0412      0.035      1.190      0.234      -0.027       0.109\n",
       "WHO0_SM                                                           -0.1179      0.021     -5.517      0.000      -0.160      -0.076\n",
       "AGE0_Train                                                        -0.1674      0.059     -2.818      0.005      -0.284      -0.051\n",
       "AGE0_SM                                                            0.1342      0.044      3.046      0.002       0.048       0.220\n",
       "AGE1_Train                                                         0.2598      0.058      4.504      0.000       0.147       0.373\n",
       "AGE1_SM                                                           -0.1471      0.045     -3.275      0.001      -0.235      -0.059\n",
       "AGE2_Train                                                         0.1411      0.058      2.451      0.014       0.028       0.254\n",
       "AGE2_SM                                                           -0.0756      0.040     -1.881      0.060      -0.154       0.003\n",
       "INCOME0_Train                                                     -0.0612      0.056     -1.085      0.278      -0.172       0.049\n",
       "INCOME0_SM                                                         0.0721      0.045      1.589      0.112      -0.017       0.161\n",
       "INCOME1_Train                                                      0.1376      0.058      2.378      0.017       0.024       0.251\n",
       "INCOME1_SM                                                         0.0209      0.046      0.451      0.652      -0.070       0.112\n",
       "INCOME2_Train                                                     -0.1407      0.057     -2.488      0.013      -0.252      -0.030\n",
       "INCOME2_SM                                                         0.0064      0.041      0.155      0.877      -0.075       0.087\n",
       "==================================================================================================================================\n",
       "\"\"\""
      ]
     },
     "execution_count": 120,
     "metadata": {},
     "output_type": "execute_result"
    }
   ],
   "source": [
    "# Estimate the multinomial logit model (MNL)\n",
    "swissmetro_mnl = pl.create_choice_model(data=new_long_sw_df_train_without_dev,\n",
    "                                        alt_id_col=custom_alt_id,\n",
    "                                        obs_id_col=obs_id_column,\n",
    "                                        choice_col=choice_column,\n",
    "                                        specification=basic_specification,\n",
    "                                        model_type=\"MNL\",\n",
    "                                        names=basic_names)\n",
    "\n",
    "deg_freedom=sum([len(b) for b in basic_specification.values()])\n",
    "# Specify the initial values and method for the optimization.\n",
    "swissmetro_mnl.fit_mle(np.zeros(deg_freedom))\n",
    "\n",
    "# Look at the estimation results\n",
    "swissmetro_mnl.get_statsmodels_summary()"
   ]
  },
  {
   "cell_type": "code",
   "execution_count": 121,
   "metadata": {},
   "outputs": [
    {
     "name": "stdout",
     "output_type": "stream",
     "text": [
      "model results for EMBEDDINGS (2003 observations, 39 degrees of freedom)\n",
      "Log likelihood (testset)=-1417.004854\n",
      "R^2 test=0.312944 & adjusted R^2 test=0.299298\n",
      "AIC test=2912.009708 & BIC test=3130.516339\n"
     ]
    }
   ],
   "source": [
    "testsetsize=len(new_long_sw_df_test)/3 #We divide by 3, because it's a long format (three rows per data point, one per choice)\n",
    "\n",
    "#Calculation of log likelihood for the testset\n",
    "long_probs=swissmetro_mnl.predict(new_long_sw_df_test)\n",
    "SCORE=sum([np.log(x) for x in np.multiply(long_probs, new_long_sw_df_test['CHOICE']) if x!=0.0])\n",
    "\n",
    "SCORE_EMBEDDINGS=SCORE\n",
    "\n",
    "#calculation of the several metrics\n",
    "obs_ll=swissmetro_mnl.null_log_likelihood/swissmetro_mnl.nobs #this extracts the null likelihood per observation \n",
    "rsq=1-(SCORE/(obs_ll*testsetsize)) \n",
    "adjrsq=rsq-(1-rsq)*deg_freedom/(testsetsize-deg_freedom-1)\n",
    "AIC=2*deg_freedom-2*SCORE\n",
    "BIC=math.log(testsetsize)*deg_freedom-2*SCORE\n",
    "print(\"model results for EMBEDDINGS (%d observations, %d degrees of freedom)\"%(testsetsize,deg_freedom))\n",
    "print(\"Log likelihood (testset)=%f\"%SCORE)\n",
    "print(\"R^2 test=%f & adjusted R^2 test=%f\"%(rsq, adjrsq))\n",
    "print(\"AIC test=%f & BIC test=%f\"%(AIC, BIC))    \n"
   ]
  },
  {
   "cell_type": "markdown",
   "metadata": {},
   "source": [
    "In order to get the coefficients and p-values, we need to project back to the \"original\" dummy variable space\n",
    "\n",
    "**note: the output is in latex form, to be easier to use in the paper... ;-)**"
   ]
  },
  {
   "cell_type": "code",
   "execution_count": 124,
   "metadata": {},
   "outputs": [
    {
     "name": "stdout",
     "output_type": "stream",
     "text": [
      "variable name\tcoeff\tstderr\tz-score\tp-value\n",
      "OD_BE_GE_Train&-0.003&0.001&-1.914&0.056*\\\\\n",
      "OD_BE_SH_Train&-0.001&0.001&-1.829&0.067*\\\\\n",
      "OD_BE_VD_Train&-0.005&0.003&-1.928&0.054*\\\\\n",
      "OD_FR_TH_Train&-0.001&0.000&-2.068&0.039**\\\\\n",
      "OD_GE_FR_Train&-0.003&0.001&-1.927&0.054*\\\\\n",
      "OD_GE_VD_Train&-0.090&0.047&-1.900&0.057*\\\\\n",
      "OD_GE_VS_Train&-0.001&0.001&-1.838&0.066*\\\\\n",
      "OD_GE_ZH_Train&-0.194&0.098&-1.971&0.049**\\\\\n",
      "OD_SG_BE_Train&-0.047&0.027&-1.722&0.085*\\\\\n",
      "OD_VD_BE_Train&-0.006&0.003&-1.985&0.047**\\\\\n",
      "OD_VD_SG_Train&-0.004&0.002&-1.806&0.071*\\\\\n",
      "OD_ZG_BE_Train&-0.001&0.001&-1.716&0.086*\\\\\n",
      "OD_ZG_SG_Train&-0.000&0.000&-2.049&0.041**\\\\\n",
      "OD_ZG_VS_Train&-0.001&0.000&-1.948&0.051*\\\\\n",
      "OD_ZH_GE_Train&-0.004&0.002&-1.924&0.054*\\\\\n",
      "OD_ZH_SG_Train&-0.005&0.003&-2.042&0.041**\\\\\n",
      "OD_ZH_VD_Train&-0.020&0.010&-1.977&0.048**\\\\\n",
      "OD_AG_GE_SM&-0.001&0.000&-3.037&0.002**\\\\\n",
      "OD_AG_VD_SM&0.000&0.000&2.561&0.010**\\\\\n",
      "OD_AG_ZH_SM&-0.001&0.000&-2.990&0.003**\\\\\n",
      "OD_AR_BE_SM&-0.001&0.000&-3.253&0.001**\\\\\n",
      "OD_AR_ZH_SM&-0.002&0.001&-3.609&0.000**\\\\\n",
      "OD_BE_AR_SM&-0.001&0.000&-3.331&0.001**\\\\\n",
      "OD_BE_GE_SM&-0.003&0.001&-4.050&0.000**\\\\\n",
      "OD_BE_SG_SM&-0.049&0.012&-4.082&0.000**\\\\\n",
      "OD_BE_SH_SM&-0.001&0.000&-4.321&0.000**\\\\\n",
      "OD_BE_SZ_SM&0.000&0.000&3.659&0.000**\\\\\n",
      "OD_BE_TI_SM&-0.000&0.000&-1.817&0.069*\\\\\n",
      "OD_BE_VD_SM&-0.006&0.002&-3.880&0.000**\\\\\n",
      "OD_BE_VS_SM&0.000&0.000&1.828&0.068*\\\\\n",
      "OD_BS_VD_SM&-0.000&0.000&-3.944&0.000**\\\\\n",
      "OD_FR_TH_SM&-0.001&0.000&-4.077&0.000**\\\\\n",
      "OD_GE_AG_SM&0.002&0.001&2.165&0.030**\\\\\n",
      "OD_GE_AI_SM&-0.002&0.001&-3.058&0.002**\\\\\n",
      "OD_GE_BE_SM&-0.009&0.004&-2.450&0.014**\\\\\n",
      "OD_GE_BL_SM&-0.001&0.000&-2.957&0.003**\\\\\n",
      "OD_GE_BS_SM&-0.004&0.001&-3.927&0.000**\\\\\n",
      "OD_GE_FR_SM&-0.004&0.001&-4.369&0.000**\\\\\n",
      "OD_GE_GR_SM&-0.003&0.001&-3.427&0.001**\\\\\n",
      "OD_GE_LU_SM&-0.002&0.001&-3.086&0.002**\\\\\n",
      "OD_GE_SH_SM&-0.001&0.000&-3.332&0.001**\\\\\n",
      "OD_GE_TH_SM&-0.001&0.000&-3.891&0.000**\\\\\n",
      "OD_GE_TI_SM&0.000&0.000&2.003&0.045**\\\\\n",
      "OD_GE_VD_SM&-0.111&0.028&-3.984&0.000**\\\\\n",
      "OD_GE_VS_SM&-0.001&0.000&-3.558&0.000**\\\\\n",
      "OD_GE_ZG_SM&0.001&0.000&3.855&0.000**\\\\\n",
      "OD_GE_ZH_SM&-0.243&0.059&-4.147&0.000**\\\\\n",
      "OD_GL_FR_SM&0.000&0.000&1.806&0.071*\\\\\n",
      "OD_GR_BE_SM&-0.002&0.001&-3.918&0.000**\\\\\n",
      "OD_GR_VD_SM&-0.002&0.001&-2.951&0.003**\\\\\n",
      "OD_LU_VD_SM&0.000&0.000&2.195&0.028**\\\\\n",
      "OD_SG_AG_SM&-0.000&0.000&-2.541&0.011**\\\\\n",
      "OD_SG_BE_SM&-0.048&0.016&-2.921&0.003**\\\\\n",
      "OD_SG_BL_SM&-0.001&0.000&-3.682&0.000**\\\\\n",
      "OD_SG_BS_SM&0.001&0.000&3.141&0.002**\\\\\n",
      "OD_SG_FR_SM&-0.002&0.001&-3.847&0.000**\\\\\n",
      "OD_SG_SO_SM&0.001&0.000&2.246&0.025**\\\\\n",
      "OD_SG_TH_SM&-0.000&0.000&-2.564&0.010**\\\\\n",
      "OD_SH_BE_SM&-0.001&0.000&-3.940&0.000**\\\\\n",
      "OD_TH_BE_SM&0.001&0.001&2.044&0.041**\\\\\n",
      "OD_TH_FR_SM&-0.002&0.000&-3.815&0.000**\\\\\n",
      "OD_TH_GE_SM&-0.001&0.000&-3.491&0.000**\\\\\n",
      "OD_TH_ZH_SM&0.001&0.000&2.141&0.032**\\\\\n",
      "OD_TI_SG_SM&0.001&0.000&2.600&0.009**\\\\\n",
      "OD_VD_AG_SM&-0.001&0.000&-3.152&0.002**\\\\\n",
      "OD_VD_BE_SM&-0.007&0.002&-3.945&0.000**\\\\\n",
      "OD_VD_BS_SM&-0.002&0.001&-2.477&0.013**\\\\\n",
      "OD_VD_GE_SM&0.082&0.040&2.033&0.042**\\\\\n",
      "OD_VD_GR_SM&-0.001&0.000&-3.030&0.002**\\\\\n",
      "OD_VD_SG_SM&-0.004&0.001&-3.100&0.002**\\\\\n",
      "OD_VD_SO_SM&-0.001&0.000&-2.543&0.011**\\\\\n",
      "OD_VD_SZ_SM&0.001&0.000&2.461&0.014**\\\\\n",
      "OD_VD_TH_SM&0.002&0.001&1.838&0.066*\\\\\n",
      "OD_VD_TI_SM&-0.002&0.001&-3.348&0.001**\\\\\n",
      "OD_VD_ZG_SM&0.002&0.001&1.925&0.054*\\\\\n",
      "OD_VS_ZH_SM&0.001&0.001&2.265&0.023**\\\\\n",
      "OD_ZG_BE_SM&-0.001&0.000&-2.746&0.006**\\\\\n",
      "OD_ZG_FR_SM&-0.001&0.000&-3.495&0.000**\\\\\n",
      "OD_ZG_GE_SM&0.003&0.001&2.293&0.022**\\\\\n",
      "OD_ZG_SG_SM&-0.000&0.000&-4.096&0.000**\\\\\n",
      "OD_ZG_VD_SM&0.001&0.000&3.681&0.000**\\\\\n",
      "OD_ZG_VS_SM&-0.001&0.000&-3.519&0.000**\\\\\n",
      "OD_ZH_AR_SM&-0.000&0.000&-2.655&0.008**\\\\\n",
      "OD_ZH_BE_SM&0.380&0.175&2.177&0.029**\\\\\n",
      "OD_ZH_GE_SM&-0.004&0.001&-3.577&0.000**\\\\\n",
      "OD_ZH_SG_SM&-0.006&0.002&-4.047&0.000**\\\\\n",
      "OD_ZH_TH_SM&0.001&0.000&2.029&0.042**\\\\\n",
      "OD_ZH_VD_SM&-0.027&0.006&-4.347&0.000**\\\\\n",
      "OD_ZH_VS_SM&-0.004&0.001&-3.528&0.000**\\\\\n",
      "TICKET_1 way w 1/2 price_Train&-0.414&2.018&-0.205&0.837\\\\\n",
      "TICKET_2 way normal price_Train&-1.030&25.627&-0.040&0.968\\\\\n",
      "TICKET_2 way w 1/2 price_Train&-0.310&22.279&-0.014&0.989\\\\\n",
      "TICKET_Annual ticket_Train&0.799&24.420&0.033&0.974\\\\\n",
      "TICKET_Annual ticket Junior or Senior_Train&0.965&5.206&0.185&0.853\\\\\n",
      "TICKET_Free travel after 7pm_Train&0.015&4.097&0.004&0.997\\\\\n",
      "TICKET_Half day_Train&-0.053&2.423&-0.022&0.983\\\\\n",
      "TICKET_Other_Train&0.124&2.167&0.057&0.954\\\\\n",
      "WHO_half-half_Train&-0.010&0.008&-1.190&0.234\\\\\n",
      "WHO_self_Train&0.077&0.064&1.190&0.234\\\\\n",
      "WHO_unknown_Train&-0.005&0.004&-1.190&0.234\\\\\n",
      "WHO_half-half_SM&0.028&0.005&5.517&0.000**\\\\\n",
      "WHO_self_SM&-0.219&0.040&-5.517&0.000**\\\\\n",
      "WHO_unknown_SM&0.013&0.002&5.517&0.000**\\\\\n",
      "AGE_39<age≤54_Train&-0.270&0.137&-1.976&0.048**\\\\\n",
      "AGE_54<age≤ 65_Train&-0.105&0.126&-0.834&0.404\\\\\n",
      "AGE_65 <age_Train&0.427&0.073&5.835&0.000**\\\\\n",
      "AGE_age≤24_Train&0.462&0.080&5.774&0.000**\\\\\n",
      "AGE_39<age≤54_SM&0.091&0.100&0.903&0.366\\\\\n",
      "AGE_54<age≤ 65_SM&0.113&0.094&1.202&0.230\\\\\n",
      "AGE_65 <age_SM&-0.260&0.056&-4.675&0.000**\\\\\n",
      "AGE_age≤24_SM&-0.291&0.060&-4.849&0.000**\\\\\n",
      "INCOME_over 100_Train&-0.062&0.127&-0.486&0.627\\\\\n",
      "INCOME_under 50_Train&-0.009&0.115&-0.076&0.939\\\\\n",
      "INCOME_unknown_Train&0.357&0.103&3.486&0.000**\\\\\n",
      "INCOME_over 100_SM&0.131&0.099&1.319&0.187\\\\\n",
      "INCOME_under 50_SM&0.045&0.089&0.504&0.614\\\\\n",
      "INCOME_unknown_SM&-0.056&0.080&-0.705&0.481\\\\\n"
     ]
    }
   ],
   "source": [
    "print(\"variable name\\tcoeff\\tstderr\\tz-score\\tp-value\")\n",
    "\n",
    "count=0\n",
    "countsig=0\n",
    "for var in emb_vars:#['OD', 'WHO', 'TICKET', 'INCOME', 'AGE']:#\n",
    "\n",
    "    alfs=pt.embeddings_dic[var]['index2alfa_from']\n",
    "    embs=pt.embeddings_dic[var]['embeddings']\n",
    "\n",
    "    alternatives=['Train', 'SM']\n",
    "    if var in [\"TICKET\"]:#, \"OD\"]:\n",
    "        alternatives=['Train']\n",
    "    for m in alternatives:\n",
    "        for i in range(embs.shape[0]):\n",
    "            mean=0\n",
    "            stde=0\n",
    "            mean_default=0\n",
    "            stde_default=0\n",
    "            for j in range(embs.shape[1]):\n",
    "                mean+=embs[i,j]*swissmetro_mnl.coefs[var+str(j)+\"_\"+m]\n",
    "                stde+=embs[i,j]**2*swissmetro_mnl.standard_errors[var+str(j)+\"_\"+m]**2\n",
    "            if i==0:\n",
    "                stde_default=stde\n",
    "                mean_default=mean\n",
    "                continue\n",
    "            stde=math.sqrt(stde+stde_default)\n",
    "            z_score=(mean-mean_default)/stde        \n",
    "            p_value = scipy.stats.norm.sf(abs(z_score))*2 #twosided\n",
    "            signif=\"\"\n",
    "            if p_value<0.05:\n",
    "                signif=\"**\"\n",
    "                countsig+=1\n",
    "            elif p_value<0.1:\n",
    "                signif=\"*\"\n",
    "                countsig+=1\n",
    "            #print(var+str(i)+\"_\"+m+\"\\t%.3f\\t%.3f\\t%.3f\\t%.3f%s\"% (mean, stde, z_score, p_value, signif))\n",
    "            #print(alfs[i]+\"_\"+m+\"\\t%.3f\\t%.3f\\t%.3f\\t%.3f%s\"% (mean, stde, z_score, p_value, signif))\n",
    "            if signif!=\"\" or var!=\"OD\":\n",
    "                print(var+\"_\"+alfs[i]+\"_\"+m+\"&%.3f&%.3f&%.3f&%.3f%s\\\\\\\\\"% (mean, stde, z_score, p_value, signif))\n",
    "            count+=1\n",
    "\n",
    "\n",
    "\n",
    "        \n",
    "            "
   ]
  },
  {
   "cell_type": "markdown",
   "metadata": {},
   "source": [
    "-----------------"
   ]
  },
  {
   "cell_type": "markdown",
   "metadata": {},
   "source": [
    "## Now with dummy variable model"
   ]
  },
  {
   "cell_type": "markdown",
   "metadata": {},
   "source": [
    "Let's start by applying the dummy encoding into the emb_vars variables"
   ]
  },
  {
   "cell_type": "code",
   "execution_count": 125,
   "metadata": {},
   "outputs": [],
   "source": [
    "dummy_long_sw_df=pd.get_dummies(long_swiss_metro, columns=emb_vars, drop_first=True)"
   ]
  },
  {
   "cell_type": "markdown",
   "metadata": {},
   "source": [
    "Same as before: in order to create the specification, we need to get the list of new variables (dataframe columns) that correspond to the dummy variables"
   ]
  },
  {
   "cell_type": "code",
   "execution_count": 126,
   "metadata": {},
   "outputs": [],
   "source": [
    "dummy_vars_long=[item for sublist in [[v for v in dummy_long_sw_df.columns if v.startswith(x)] for x in emb_vars] for item in sublist]"
   ]
  },
  {
   "cell_type": "markdown",
   "metadata": {},
   "source": [
    "There's a new subtlety here: as explained in the paper, if we use the OD variables (as dummies), the result is catastrophic, so we include a model without those variables to keep it a decent baseline.  "
   ]
  },
  {
   "cell_type": "code",
   "execution_count": 127,
   "metadata": {},
   "outputs": [],
   "source": [
    "exclude_ODs=[d for d in dummy_vars_long if not d.startswith(\"OD\")]"
   ]
  },
  {
   "cell_type": "code",
   "execution_count": 128,
   "metadata": {},
   "outputs": [],
   "source": [
    "basic_specification, basic_names=create_spec()\n",
    "#for dum in dummy_vars_long: #if you want to try the model including OD variables, replace the line below with this one. \n",
    "for dum in exclude_ODs:\n",
    "    if dum.startswith(\"TICKET\"):\n",
    "        basic_specification[dum] = [1]\n",
    "        basic_names[dum] = [dum+\"_Train\"]\n",
    "    else:\n",
    "        basic_specification[dum] = [1,2]\n",
    "        basic_names[dum] = [dum+\"_Train\", dum+\"_SM\"]"
   ]
  },
  {
   "cell_type": "code",
   "execution_count": 129,
   "metadata": {},
   "outputs": [],
   "source": [
    "dummy_long_sw_df_train,dummy_long_sw_df_test=train_test_split(dummy_long_sw_df, train_size=SPLIT_EMBEDDINGS_DCM, shuffle=False)"
   ]
  },
  {
   "cell_type": "code",
   "execution_count": 130,
   "metadata": {},
   "outputs": [],
   "source": [
    "dummy_long_sw_df_train_train,dummy_long_sw_df_train_dev=train_test_split(dummy_long_sw_df_train, train_size=TRAINSET_WITHOUT_DEV, shuffle=False)\n"
   ]
  },
  {
   "cell_type": "code",
   "execution_count": 131,
   "metadata": {},
   "outputs": [
    {
     "name": "stdout",
     "output_type": "stream",
     "text": [
      "Log-likelihood at zero: -6,559.9046\n",
      "Initial Log-likelihood: -6,559.9046\n",
      "Estimation Time for Point Estimation: 1.80 seconds.\n",
      "Final log-likelihood: -4,386.9242\n"
     ]
    },
    {
     "data": {
      "text/html": [
       "<table class=\"simpletable\">\n",
       "<caption>Multinomial Logit Model Regression Results</caption>\n",
       "<tr>\n",
       "  <th>Dep. Variable:</th>         <td>CHOICE</td>          <th>  No. Observations:  </th>    <td>6,373</td>  \n",
       "</tr>\n",
       "<tr>\n",
       "  <th>Model:</th>         <td>Multinomial Logit Model</td> <th>  Df Residuals:      </th>    <td>6,331</td>  \n",
       "</tr>\n",
       "<tr>\n",
       "  <th>Method:</th>                  <td>MLE</td>           <th>  Df Model:          </th>     <td>42</td>    \n",
       "</tr>\n",
       "<tr>\n",
       "  <th>Date:</th>             <td>Fri, 30 Aug 2019</td>     <th>  Pseudo R-squ.:     </th>    <td>0.331</td>  \n",
       "</tr>\n",
       "<tr>\n",
       "  <th>Time:</th>                 <td>01:18:55</td>         <th>  Pseudo R-bar-squ.: </th>    <td>0.325</td>  \n",
       "</tr>\n",
       "<tr>\n",
       "  <th>AIC:</th>                  <td>8,857.848</td>        <th>  Log-Likelihood:    </th> <td>-4,386.924</td>\n",
       "</tr>\n",
       "<tr>\n",
       "  <th>BIC:</th>                  <td>9,141.761</td>        <th>  LL-Null:           </th> <td>-6,559.905</td>\n",
       "</tr>\n",
       "</table>\n",
       "<table class=\"simpletable\">\n",
       "<tr>\n",
       "                                 <td></td>                                   <th>coef</th>     <th>std err</th>      <th>z</th>      <th>P>|z|</th>  <th>[0.025</th>    <th>0.975]</th>  \n",
       "</tr>\n",
       "<tr>\n",
       "  <th>ASC Train</th>                                                      <td>   -2.1976</td> <td>    0.464</td> <td>   -4.732</td> <td> 0.000</td> <td>   -3.108</td> <td>   -1.287</td>\n",
       "</tr>\n",
       "<tr>\n",
       "  <th>ASC Swissmetro</th>                                                 <td>   -0.0183</td> <td>    0.147</td> <td>   -0.125</td> <td> 0.901</td> <td>   -0.306</td> <td>    0.269</td>\n",
       "</tr>\n",
       "<tr>\n",
       "  <th>Travel Time, units:hrs (Train and Swissmetro)</th>                  <td>   -0.5777</td> <td>    0.043</td> <td>  -13.481</td> <td> 0.000</td> <td>   -0.662</td> <td>   -0.494</td>\n",
       "</tr>\n",
       "<tr>\n",
       "  <th>Travel Time, units:hrs (Car)</th>                                   <td>   -0.7028</td> <td>    0.049</td> <td>  -14.399</td> <td> 0.000</td> <td>   -0.798</td> <td>   -0.607</td>\n",
       "</tr>\n",
       "<tr>\n",
       "  <th>Travel Cost * (Annual Pass == 0), units: 0.01 CHF (Train)</th>      <td>   -1.3984</td> <td>    0.144</td> <td>   -9.717</td> <td> 0.000</td> <td>   -1.680</td> <td>   -1.116</td>\n",
       "</tr>\n",
       "<tr>\n",
       "  <th>Travel Cost * (Annual Pass == 0), units: 0.01 CHF (Swissmetro)</th> <td>   -0.8554</td> <td>    0.049</td> <td>  -17.328</td> <td> 0.000</td> <td>   -0.952</td> <td>   -0.759</td>\n",
       "</tr>\n",
       "<tr>\n",
       "  <th>Travel Cost, units: 0.01 CHF (Car)</th>                             <td>   -0.9836</td> <td>    0.118</td> <td>   -8.368</td> <td> 0.000</td> <td>   -1.214</td> <td>   -0.753</td>\n",
       "</tr>\n",
       "<tr>\n",
       "  <th>Headway, units:hrs, (Train)</th>                                    <td>   -0.4318</td> <td>    0.071</td> <td>   -6.042</td> <td> 0.000</td> <td>   -0.572</td> <td>   -0.292</td>\n",
       "</tr>\n",
       "<tr>\n",
       "  <th>Headway, units:hrs, (Swissmetro)</th>                               <td>   -0.5994</td> <td>    0.207</td> <td>   -2.890</td> <td> 0.004</td> <td>   -1.006</td> <td>   -0.193</td>\n",
       "</tr>\n",
       "<tr>\n",
       "  <th>Airline Seat Configuration, base=No (Swissmetro)</th>               <td>   -0.4091</td> <td>    0.102</td> <td>   -4.012</td> <td> 0.000</td> <td>   -0.609</td> <td>   -0.209</td>\n",
       "</tr>\n",
       "<tr>\n",
       "  <th>Surveyed on a Train, base=No, (Train and Swissmetro)</th>           <td>    2.9172</td> <td>    0.143</td> <td>   20.364</td> <td> 0.000</td> <td>    2.636</td> <td>    3.198</td>\n",
       "</tr>\n",
       "<tr>\n",
       "  <th>First Class == False, (Swissmetro)</th>                             <td>    0.0030</td> <td>    0.113</td> <td>    0.026</td> <td> 0.979</td> <td>   -0.218</td> <td>    0.224</td>\n",
       "</tr>\n",
       "<tr>\n",
       "  <th>Number of Luggage Pieces == 1, (Car)</th>                           <td>    0.3632</td> <td>    0.072</td> <td>    5.067</td> <td> 0.000</td> <td>    0.223</td> <td>    0.504</td>\n",
       "</tr>\n",
       "<tr>\n",
       "  <th>Number of Luggage Pieces > 1, (Car)</th>                            <td>    1.8804</td> <td>    0.375</td> <td>    5.017</td> <td> 0.000</td> <td>    1.146</td> <td>    2.615</td>\n",
       "</tr>\n",
       "<tr>\n",
       "  <th>TICKET_1 way w 1/2 price_Train</th>                                 <td>    0.1981</td> <td>    0.464</td> <td>    0.427</td> <td> 0.669</td> <td>   -0.711</td> <td>    1.107</td>\n",
       "</tr>\n",
       "<tr>\n",
       "  <th>TICKET_2 way normal price_Train</th>                                <td>    0.1965</td> <td>    0.434</td> <td>    0.452</td> <td> 0.651</td> <td>   -0.655</td> <td>    1.048</td>\n",
       "</tr>\n",
       "<tr>\n",
       "  <th>TICKET_2 way w 1/2 price_Train</th>                                 <td>    0.6297</td> <td>    0.414</td> <td>    1.520</td> <td> 0.129</td> <td>   -0.182</td> <td>    1.442</td>\n",
       "</tr>\n",
       "<tr>\n",
       "  <th>TICKET_Annual ticket_Train</th>                                     <td>    1.5798</td> <td>    0.421</td> <td>    3.750</td> <td> 0.000</td> <td>    0.754</td> <td>    2.405</td>\n",
       "</tr>\n",
       "<tr>\n",
       "  <th>TICKET_Annual ticket Junior or Senior_Train</th>                    <td>    1.5625</td> <td>    0.444</td> <td>    3.518</td> <td> 0.000</td> <td>    0.692</td> <td>    2.433</td>\n",
       "</tr>\n",
       "<tr>\n",
       "  <th>TICKET_Free travel after 7pm_Train</th>                             <td>    2.2375</td> <td>    0.499</td> <td>    4.483</td> <td> 0.000</td> <td>    1.259</td> <td>    3.216</td>\n",
       "</tr>\n",
       "<tr>\n",
       "  <th>TICKET_Half day_Train</th>                                          <td>    0.9871</td> <td>    0.480</td> <td>    2.056</td> <td> 0.040</td> <td>    0.046</td> <td>    1.928</td>\n",
       "</tr>\n",
       "<tr>\n",
       "  <th>TICKET_Other_Train</th>                                             <td>    1.4718</td> <td>    0.470</td> <td>    3.129</td> <td> 0.002</td> <td>    0.550</td> <td>    2.394</td>\n",
       "</tr>\n",
       "<tr>\n",
       "  <th>WHO_half-half_Train</th>                                            <td>    0.0966</td> <td>    0.196</td> <td>    0.492</td> <td> 0.622</td> <td>   -0.288</td> <td>    0.481</td>\n",
       "</tr>\n",
       "<tr>\n",
       "  <th>WHO_half-half_SM</th>                                               <td>    0.0794</td> <td>    0.120</td> <td>    0.663</td> <td> 0.507</td> <td>   -0.155</td> <td>    0.314</td>\n",
       "</tr>\n",
       "<tr>\n",
       "  <th>WHO_self_Train</th>                                                 <td>   -0.0088</td> <td>    0.134</td> <td>   -0.066</td> <td> 0.947</td> <td>   -0.271</td> <td>    0.253</td>\n",
       "</tr>\n",
       "<tr>\n",
       "  <th>WHO_self_SM</th>                                                    <td>   -0.4312</td> <td>    0.079</td> <td>   -5.431</td> <td> 0.000</td> <td>   -0.587</td> <td>   -0.276</td>\n",
       "</tr>\n",
       "<tr>\n",
       "  <th>WHO_unknown_Train</th>                                              <td>   -0.6166</td> <td>    0.508</td> <td>   -1.215</td> <td> 0.225</td> <td>   -1.612</td> <td>    0.378</td>\n",
       "</tr>\n",
       "<tr>\n",
       "  <th>WHO_unknown_SM</th>                                                 <td>   -0.2768</td> <td>    0.216</td> <td>   -1.284</td> <td> 0.199</td> <td>   -0.699</td> <td>    0.146</td>\n",
       "</tr>\n",
       "<tr>\n",
       "  <th>AGE_39<age≤54_Train</th>                                            <td>    0.0892</td> <td>    0.140</td> <td>    0.635</td> <td> 0.525</td> <td>   -0.186</td> <td>    0.364</td>\n",
       "</tr>\n",
       "<tr>\n",
       "  <th>AGE_39<age≤54_SM</th>                                               <td>   -0.1258</td> <td>    0.083</td> <td>   -1.516</td> <td> 0.130</td> <td>   -0.289</td> <td>    0.037</td>\n",
       "</tr>\n",
       "<tr>\n",
       "  <th>AGE_54<age≤ 65_Train</th>                                           <td>    0.2716</td> <td>    0.164</td> <td>    1.658</td> <td> 0.097</td> <td>   -0.050</td> <td>    0.593</td>\n",
       "</tr>\n",
       "<tr>\n",
       "  <th>AGE_54<age≤ 65_SM</th>                                              <td>   -0.1105</td> <td>    0.097</td> <td>   -1.139</td> <td> 0.255</td> <td>   -0.301</td> <td>    0.080</td>\n",
       "</tr>\n",
       "<tr>\n",
       "  <th>AGE_65 <age_Train</th>                                              <td>    1.1688</td> <td>    0.184</td> <td>    6.335</td> <td> 0.000</td> <td>    0.807</td> <td>    1.530</td>\n",
       "</tr>\n",
       "<tr>\n",
       "  <th>AGE_65 <age_SM</th>                                                 <td>   -0.7832</td> <td>    0.149</td> <td>   -5.260</td> <td> 0.000</td> <td>   -1.075</td> <td>   -0.491</td>\n",
       "</tr>\n",
       "<tr>\n",
       "  <th>AGE_age≤24_Train</th>                                               <td>    0.4822</td> <td>    0.287</td> <td>    1.683</td> <td> 0.092</td> <td>   -0.079</td> <td>    1.044</td>\n",
       "</tr>\n",
       "<tr>\n",
       "  <th>AGE_age≤24_SM</th>                                                  <td>   -0.2051</td> <td>    0.260</td> <td>   -0.789</td> <td> 0.430</td> <td>   -0.715</td> <td>    0.305</td>\n",
       "</tr>\n",
       "<tr>\n",
       "  <th>INCOME_over 100_Train</th>                                          <td>    0.2151</td> <td>    0.139</td> <td>    1.543</td> <td> 0.123</td> <td>   -0.058</td> <td>    0.488</td>\n",
       "</tr>\n",
       "<tr>\n",
       "  <th>INCOME_over 100_SM</th>                                             <td>    0.2213</td> <td>    0.080</td> <td>    2.760</td> <td> 0.006</td> <td>    0.064</td> <td>    0.379</td>\n",
       "</tr>\n",
       "<tr>\n",
       "  <th>INCOME_under 50_Train</th>                                          <td>    0.3692</td> <td>    0.171</td> <td>    2.160</td> <td> 0.031</td> <td>    0.034</td> <td>    0.704</td>\n",
       "</tr>\n",
       "<tr>\n",
       "  <th>INCOME_under 50_SM</th>                                             <td>    0.1191</td> <td>    0.132</td> <td>    0.902</td> <td> 0.367</td> <td>   -0.140</td> <td>    0.378</td>\n",
       "</tr>\n",
       "<tr>\n",
       "  <th>INCOME_unknown_Train</th>                                           <td>    0.7454</td> <td>    0.192</td> <td>    3.885</td> <td> 0.000</td> <td>    0.369</td> <td>    1.121</td>\n",
       "</tr>\n",
       "<tr>\n",
       "  <th>INCOME_unknown_SM</th>                                              <td>   -0.0139</td> <td>    0.152</td> <td>   -0.091</td> <td> 0.927</td> <td>   -0.312</td> <td>    0.284</td>\n",
       "</tr>\n",
       "</table>"
      ],
      "text/plain": [
       "<class 'statsmodels.iolib.summary.Summary'>\n",
       "\"\"\"\n",
       "                     Multinomial Logit Model Regression Results                    \n",
       "===================================================================================\n",
       "Dep. Variable:                      CHOICE   No. Observations:                6,373\n",
       "Model:             Multinomial Logit Model   Df Residuals:                    6,331\n",
       "Method:                                MLE   Df Model:                           42\n",
       "Date:                     Fri, 30 Aug 2019   Pseudo R-squ.:                   0.331\n",
       "Time:                             01:18:55   Pseudo R-bar-squ.:               0.325\n",
       "AIC:                             8,857.848   Log-Likelihood:             -4,386.924\n",
       "BIC:                             9,141.761   LL-Null:                    -6,559.905\n",
       "==================================================================================================================================\n",
       "                                                                     coef    std err          z      P>|z|      [0.025      0.975]\n",
       "----------------------------------------------------------------------------------------------------------------------------------\n",
       "ASC Train                                                         -2.1976      0.464     -4.732      0.000      -3.108      -1.287\n",
       "ASC Swissmetro                                                    -0.0183      0.147     -0.125      0.901      -0.306       0.269\n",
       "Travel Time, units:hrs (Train and Swissmetro)                     -0.5777      0.043    -13.481      0.000      -0.662      -0.494\n",
       "Travel Time, units:hrs (Car)                                      -0.7028      0.049    -14.399      0.000      -0.798      -0.607\n",
       "Travel Cost * (Annual Pass == 0), units: 0.01 CHF (Train)         -1.3984      0.144     -9.717      0.000      -1.680      -1.116\n",
       "Travel Cost * (Annual Pass == 0), units: 0.01 CHF (Swissmetro)    -0.8554      0.049    -17.328      0.000      -0.952      -0.759\n",
       "Travel Cost, units: 0.01 CHF (Car)                                -0.9836      0.118     -8.368      0.000      -1.214      -0.753\n",
       "Headway, units:hrs, (Train)                                       -0.4318      0.071     -6.042      0.000      -0.572      -0.292\n",
       "Headway, units:hrs, (Swissmetro)                                  -0.5994      0.207     -2.890      0.004      -1.006      -0.193\n",
       "Airline Seat Configuration, base=No (Swissmetro)                  -0.4091      0.102     -4.012      0.000      -0.609      -0.209\n",
       "Surveyed on a Train, base=No, (Train and Swissmetro)               2.9172      0.143     20.364      0.000       2.636       3.198\n",
       "First Class == False, (Swissmetro)                                 0.0030      0.113      0.026      0.979      -0.218       0.224\n",
       "Number of Luggage Pieces == 1, (Car)                               0.3632      0.072      5.067      0.000       0.223       0.504\n",
       "Number of Luggage Pieces > 1, (Car)                                1.8804      0.375      5.017      0.000       1.146       2.615\n",
       "TICKET_1 way w 1/2 price_Train                                     0.1981      0.464      0.427      0.669      -0.711       1.107\n",
       "TICKET_2 way normal price_Train                                    0.1965      0.434      0.452      0.651      -0.655       1.048\n",
       "TICKET_2 way w 1/2 price_Train                                     0.6297      0.414      1.520      0.129      -0.182       1.442\n",
       "TICKET_Annual ticket_Train                                         1.5798      0.421      3.750      0.000       0.754       2.405\n",
       "TICKET_Annual ticket Junior or Senior_Train                        1.5625      0.444      3.518      0.000       0.692       2.433\n",
       "TICKET_Free travel after 7pm_Train                                 2.2375      0.499      4.483      0.000       1.259       3.216\n",
       "TICKET_Half day_Train                                              0.9871      0.480      2.056      0.040       0.046       1.928\n",
       "TICKET_Other_Train                                                 1.4718      0.470      3.129      0.002       0.550       2.394\n",
       "WHO_half-half_Train                                                0.0966      0.196      0.492      0.622      -0.288       0.481\n",
       "WHO_half-half_SM                                                   0.0794      0.120      0.663      0.507      -0.155       0.314\n",
       "WHO_self_Train                                                    -0.0088      0.134     -0.066      0.947      -0.271       0.253\n",
       "WHO_self_SM                                                       -0.4312      0.079     -5.431      0.000      -0.587      -0.276\n",
       "WHO_unknown_Train                                                 -0.6166      0.508     -1.215      0.225      -1.612       0.378\n",
       "WHO_unknown_SM                                                    -0.2768      0.216     -1.284      0.199      -0.699       0.146\n",
       "AGE_39<age≤54_Train                                                0.0892      0.140      0.635      0.525      -0.186       0.364\n",
       "AGE_39<age≤54_SM                                                  -0.1258      0.083     -1.516      0.130      -0.289       0.037\n",
       "AGE_54<age≤ 65_Train                                               0.2716      0.164      1.658      0.097      -0.050       0.593\n",
       "AGE_54<age≤ 65_SM                                                 -0.1105      0.097     -1.139      0.255      -0.301       0.080\n",
       "AGE_65 <age_Train                                                  1.1688      0.184      6.335      0.000       0.807       1.530\n",
       "AGE_65 <age_SM                                                    -0.7832      0.149     -5.260      0.000      -1.075      -0.491\n",
       "AGE_age≤24_Train                                                   0.4822      0.287      1.683      0.092      -0.079       1.044\n",
       "AGE_age≤24_SM                                                     -0.2051      0.260     -0.789      0.430      -0.715       0.305\n",
       "INCOME_over 100_Train                                              0.2151      0.139      1.543      0.123      -0.058       0.488\n",
       "INCOME_over 100_SM                                                 0.2213      0.080      2.760      0.006       0.064       0.379\n",
       "INCOME_under 50_Train                                              0.3692      0.171      2.160      0.031       0.034       0.704\n",
       "INCOME_under 50_SM                                                 0.1191      0.132      0.902      0.367      -0.140       0.378\n",
       "INCOME_unknown_Train                                               0.7454      0.192      3.885      0.000       0.369       1.121\n",
       "INCOME_unknown_SM                                                 -0.0139      0.152     -0.091      0.927      -0.312       0.284\n",
       "==================================================================================================================================\n",
       "\"\"\""
      ]
     },
     "execution_count": 131,
     "metadata": {},
     "output_type": "execute_result"
    }
   ],
   "source": [
    "# Estimate the multinomial logit model (MNL)\n",
    "swissmetro_mnl = pl.create_choice_model(data=dummy_long_sw_df_train_train,\n",
    "                                        alt_id_col=custom_alt_id,\n",
    "                                        obs_id_col=obs_id_column,\n",
    "                                        choice_col=choice_column,\n",
    "                                        specification=basic_specification,\n",
    "                                        model_type=\"MNL\",\n",
    "                                        names=basic_names)\n",
    "\n",
    "deg_freedom=sum([len(b) for b in basic_specification.values()])\n",
    "# Specify the initial values and method for the optimization.\n",
    "swissmetro_mnl.fit_mle(np.zeros(deg_freedom))\n",
    "\n",
    "\n",
    "# Look at the estimation results\n",
    "swissmetro_mnl.get_statsmodels_summary()"
   ]
  },
  {
   "cell_type": "markdown",
   "metadata": {},
   "source": [
    "...results..."
   ]
  },
  {
   "cell_type": "code",
   "execution_count": 132,
   "metadata": {},
   "outputs": [
    {
     "name": "stdout",
     "output_type": "stream",
     "text": [
      "model results for DUMMY (2003 observations, 42 degrees of freedom)\n",
      "Log likelihood (testset)=-1429.273225\n",
      "R^2 test=0.306995 & adjusted R^2 test=0.292150\n",
      "AIC test=2942.546449 & BIC test=3177.861282\n"
     ]
    }
   ],
   "source": [
    "testsetsize=len(dummy_long_sw_df_test)/3 #We divide by 3, because it's a long format (three rows per data point, one per choice)\n",
    "\n",
    "#Calculation of log likelihood for the testset\n",
    "long_probs=swissmetro_mnl.predict(dummy_long_sw_df_test)\n",
    "SCORE=sum([np.log(x) for x in np.multiply(long_probs, dummy_long_sw_df_test['CHOICE']) if x!=0.0])\n",
    "\n",
    "SCORE_DUMMY=SCORE\n",
    "#calculation of the several metrics\n",
    "obs_ll=swissmetro_mnl.null_log_likelihood/swissmetro_mnl.nobs #this extracts the null likelihood per observation \n",
    "rsq=1-(SCORE/(obs_ll*testsetsize)) \n",
    "adjrsq=rsq-(1-rsq)*deg_freedom/(testsetsize-deg_freedom-1)\n",
    "AIC=2*deg_freedom-2*SCORE\n",
    "BIC=math.log(testsetsize)*deg_freedom-2*SCORE\n",
    "print(\"model results for DUMMY (%d observations, %d degrees of freedom)\"%(testsetsize,deg_freedom))\n",
    "print(\"Log likelihood (testset)=%f\"%SCORE)\n",
    "print(\"R^2 test=%f & adjusted R^2 test=%f\"%(rsq, adjrsq))\n",
    "print(\"AIC test=%f & BIC test=%f\"%(AIC, BIC))    \n"
   ]
  },
  {
   "cell_type": "markdown",
   "metadata": {},
   "source": [
    "-------------"
   ]
  },
  {
   "cell_type": "markdown",
   "metadata": {},
   "source": [
    "## And now PCA"
   ]
  },
  {
   "cell_type": "markdown",
   "metadata": {},
   "source": [
    "To generate the PCA model, we can start with the dummy variable encoding"
   ]
  },
  {
   "cell_type": "code",
   "execution_count": 133,
   "metadata": {},
   "outputs": [],
   "source": [
    "dummy_long_sw_df=pd.get_dummies(long_swiss_metro, columns=emb_vars, drop_first=False)"
   ]
  },
  {
   "cell_type": "code",
   "execution_count": 134,
   "metadata": {},
   "outputs": [],
   "source": [
    "dummy_vars_long=[item for sublist in [[v for v in dummy_long_sw_df.columns if v.startswith(x)] for x in emb_vars] for item in sublist]"
   ]
  },
  {
   "cell_type": "markdown",
   "metadata": {},
   "source": [
    "For each variable in the emb_vars (that is now represented through dummies), obtain its respective PCA decomposition"
   ]
  },
  {
   "cell_type": "code",
   "execution_count": 135,
   "metadata": {},
   "outputs": [
    {
     "name": "stdout",
     "output_type": "stream",
     "text": [
      "Reduced OD that had dim=96 into 3\n",
      "Reduced TICKET that had dim=9 into 5\n",
      "Reduced WHO that had dim=4 into 1\n",
      "Reduced AGE that had dim=5 into 3\n",
      "Reduced INCOME that had dim=4 into 3\n"
     ]
    }
   ],
   "source": [
    "base_features=[c for c in dummy_long_sw_df.columns if c not in dummy_vars_long]\n",
    "pca_long_sw_df=dummy_long_sw_df[base_features][:]\n",
    "pca_dic={}\n",
    "\n",
    "for d, EMB_SIZE in zip(emb_vars, EMB_SIZES):\n",
    "    dlist=[w for w in dummy_vars_long if w.startswith(d)]\n",
    "    X_transformed,EMB_S, pca_dic[d]=pt.pca_embedding(dummy_long_sw_df[dlist], varexp=EMB_SIZE)\n",
    "    print(\"Reduced %s that had dim=%d into %d\"%(d, len(dlist),EMB_S))\n",
    "    eigenvector=0\n",
    "    for x in X_transformed.T:\n",
    "        pca_long_sw_df[d+str(eigenvector)]=x\n",
    "        eigenvector+=1"
   ]
  },
  {
   "cell_type": "markdown",
   "metadata": {},
   "source": [
    "The numbers above should match the ones from the embeddings model, otherwise, something went wrong! "
   ]
  },
  {
   "cell_type": "code",
   "execution_count": 136,
   "metadata": {},
   "outputs": [],
   "source": [
    "pca_vars_long=[item for sublist in [[v for v in pca_long_sw_df.columns if v.startswith(x)] for x in emb_vars] for item in sublist]"
   ]
  },
  {
   "cell_type": "code",
   "execution_count": 137,
   "metadata": {},
   "outputs": [],
   "source": [
    "basic_specification, basic_names=create_spec()\n",
    "for p in pca_vars_long:\n",
    "    if p.startswith(\"TICKET\"):\n",
    "        basic_specification[p] = [1]\n",
    "        basic_names[p] = [p+\"_Train\"]\n",
    "    else:\n",
    "        basic_specification[p] = [1,2]\n",
    "        basic_names[p] = [p+\"_Train\", p+\"_SM\"]"
   ]
  },
  {
   "cell_type": "code",
   "execution_count": 138,
   "metadata": {},
   "outputs": [],
   "source": [
    "pca_long_sw_df_train,pca_long_sw_df_test=train_test_split(pca_long_sw_df, train_size=SPLIT_EMBEDDINGS_DCM, shuffle=False)"
   ]
  },
  {
   "cell_type": "code",
   "execution_count": 139,
   "metadata": {},
   "outputs": [],
   "source": [
    "pca_long_sw_df_train_train,pca_long_sw_df_train_dev=train_test_split(pca_long_sw_df_train, train_size=TRAINSET_WITHOUT_DEV, shuffle=False)\n"
   ]
  },
  {
   "cell_type": "code",
   "execution_count": 140,
   "metadata": {},
   "outputs": [
    {
     "name": "stdout",
     "output_type": "stream",
     "text": [
      "Log-likelihood at zero: -6,559.9046\n",
      "Initial Log-likelihood: -6,559.9046\n",
      "Estimation Time for Point Estimation: 0.94 seconds.\n",
      "Final log-likelihood: -4,407.9188\n"
     ]
    },
    {
     "data": {
      "text/html": [
       "<table class=\"simpletable\">\n",
       "<caption>Multinomial Logit Model Regression Results</caption>\n",
       "<tr>\n",
       "  <th>Dep. Variable:</th>         <td>CHOICE</td>          <th>  No. Observations:  </th>    <td>6,373</td>  \n",
       "</tr>\n",
       "<tr>\n",
       "  <th>Model:</th>         <td>Multinomial Logit Model</td> <th>  Df Residuals:      </th>    <td>6,334</td>  \n",
       "</tr>\n",
       "<tr>\n",
       "  <th>Method:</th>                  <td>MLE</td>           <th>  Df Model:          </th>     <td>39</td>    \n",
       "</tr>\n",
       "<tr>\n",
       "  <th>Date:</th>             <td>Fri, 30 Aug 2019</td>     <th>  Pseudo R-squ.:     </th>    <td>0.328</td>  \n",
       "</tr>\n",
       "<tr>\n",
       "  <th>Time:</th>                 <td>01:19:09</td>         <th>  Pseudo R-bar-squ.: </th>    <td>0.322</td>  \n",
       "</tr>\n",
       "<tr>\n",
       "  <th>AIC:</th>                  <td>8,893.838</td>        <th>  Log-Likelihood:    </th> <td>-4,407.919</td>\n",
       "</tr>\n",
       "<tr>\n",
       "  <th>BIC:</th>                  <td>9,157.471</td>        <th>  LL-Null:           </th> <td>-6,559.905</td>\n",
       "</tr>\n",
       "</table>\n",
       "<table class=\"simpletable\">\n",
       "<tr>\n",
       "                                 <td></td>                                   <th>coef</th>     <th>std err</th>      <th>z</th>      <th>P>|z|</th>  <th>[0.025</th>    <th>0.975]</th>  \n",
       "</tr>\n",
       "<tr>\n",
       "  <th>ASC Train</th>                                                      <td>   -1.3234</td> <td>    0.197</td> <td>   -6.718</td> <td> 0.000</td> <td>   -1.710</td> <td>   -0.937</td>\n",
       "</tr>\n",
       "<tr>\n",
       "  <th>ASC Swissmetro</th>                                                 <td>   -0.2962</td> <td>    0.129</td> <td>   -2.288</td> <td> 0.022</td> <td>   -0.550</td> <td>   -0.042</td>\n",
       "</tr>\n",
       "<tr>\n",
       "  <th>Travel Time, units:hrs (Train and Swissmetro)</th>                  <td>   -0.5758</td> <td>    0.043</td> <td>  -13.338</td> <td> 0.000</td> <td>   -0.660</td> <td>   -0.491</td>\n",
       "</tr>\n",
       "<tr>\n",
       "  <th>Travel Time, units:hrs (Car)</th>                                   <td>   -0.7041</td> <td>    0.049</td> <td>  -14.290</td> <td> 0.000</td> <td>   -0.801</td> <td>   -0.608</td>\n",
       "</tr>\n",
       "<tr>\n",
       "  <th>Travel Cost * (Annual Pass == 0), units: 0.01 CHF (Train)</th>      <td>   -1.1695</td> <td>    0.133</td> <td>   -8.818</td> <td> 0.000</td> <td>   -1.429</td> <td>   -0.910</td>\n",
       "</tr>\n",
       "<tr>\n",
       "  <th>Travel Cost * (Annual Pass == 0), units: 0.01 CHF (Swissmetro)</th> <td>   -0.8582</td> <td>    0.049</td> <td>  -17.348</td> <td> 0.000</td> <td>   -0.955</td> <td>   -0.761</td>\n",
       "</tr>\n",
       "<tr>\n",
       "  <th>Travel Cost, units: 0.01 CHF (Car)</th>                             <td>   -0.9896</td> <td>    0.119</td> <td>   -8.350</td> <td> 0.000</td> <td>   -1.222</td> <td>   -0.757</td>\n",
       "</tr>\n",
       "<tr>\n",
       "  <th>Headway, units:hrs, (Train)</th>                                    <td>   -0.4058</td> <td>    0.071</td> <td>   -5.749</td> <td> 0.000</td> <td>   -0.544</td> <td>   -0.267</td>\n",
       "</tr>\n",
       "<tr>\n",
       "  <th>Headway, units:hrs, (Swissmetro)</th>                               <td>   -0.5876</td> <td>    0.207</td> <td>   -2.839</td> <td> 0.005</td> <td>   -0.993</td> <td>   -0.182</td>\n",
       "</tr>\n",
       "<tr>\n",
       "  <th>Airline Seat Configuration, base=No (Swissmetro)</th>               <td>   -0.4192</td> <td>    0.102</td> <td>   -4.120</td> <td> 0.000</td> <td>   -0.619</td> <td>   -0.220</td>\n",
       "</tr>\n",
       "<tr>\n",
       "  <th>Surveyed on a Train, base=No, (Train and Swissmetro)</th>           <td>    2.9434</td> <td>    0.144</td> <td>   20.471</td> <td> 0.000</td> <td>    2.662</td> <td>    3.225</td>\n",
       "</tr>\n",
       "<tr>\n",
       "  <th>First Class == False, (Swissmetro)</th>                             <td>   -0.0662</td> <td>    0.108</td> <td>   -0.615</td> <td> 0.538</td> <td>   -0.277</td> <td>    0.145</td>\n",
       "</tr>\n",
       "<tr>\n",
       "  <th>Number of Luggage Pieces == 1, (Car)</th>                           <td>    0.3526</td> <td>    0.071</td> <td>    4.981</td> <td> 0.000</td> <td>    0.214</td> <td>    0.491</td>\n",
       "</tr>\n",
       "<tr>\n",
       "  <th>Number of Luggage Pieces > 1, (Car)</th>                            <td>    1.8883</td> <td>    0.376</td> <td>    5.024</td> <td> 0.000</td> <td>    1.152</td> <td>    2.625</td>\n",
       "</tr>\n",
       "<tr>\n",
       "  <th>OD0_Train</th>                                                      <td>    0.2379</td> <td>    0.175</td> <td>    1.360</td> <td> 0.174</td> <td>   -0.105</td> <td>    0.581</td>\n",
       "</tr>\n",
       "<tr>\n",
       "  <th>OD0_SM</th>                                                         <td>   -0.0858</td> <td>    0.106</td> <td>   -0.809</td> <td> 0.418</td> <td>   -0.294</td> <td>    0.122</td>\n",
       "</tr>\n",
       "<tr>\n",
       "  <th>OD1_Train</th>                                                      <td>    0.1741</td> <td>    0.228</td> <td>    0.764</td> <td> 0.445</td> <td>   -0.272</td> <td>    0.621</td>\n",
       "</tr>\n",
       "<tr>\n",
       "  <th>OD1_SM</th>                                                         <td>   -0.0375</td> <td>    0.123</td> <td>   -0.305</td> <td> 0.760</td> <td>   -0.278</td> <td>    0.203</td>\n",
       "</tr>\n",
       "<tr>\n",
       "  <th>OD2_Train</th>                                                      <td>    0.2336</td> <td>    0.209</td> <td>    1.119</td> <td> 0.263</td> <td>   -0.175</td> <td>    0.643</td>\n",
       "</tr>\n",
       "<tr>\n",
       "  <th>OD2_SM</th>                                                         <td>    0.3665</td> <td>    0.141</td> <td>    2.592</td> <td> 0.010</td> <td>    0.089</td> <td>    0.644</td>\n",
       "</tr>\n",
       "<tr>\n",
       "  <th>TICKET0_Train</th>                                                  <td>   -0.3243</td> <td>    0.110</td> <td>   -2.954</td> <td> 0.003</td> <td>   -0.539</td> <td>   -0.109</td>\n",
       "</tr>\n",
       "<tr>\n",
       "  <th>TICKET1_Train</th>                                                  <td>    1.1969</td> <td>    0.125</td> <td>    9.573</td> <td> 0.000</td> <td>    0.952</td> <td>    1.442</td>\n",
       "</tr>\n",
       "<tr>\n",
       "  <th>TICKET2_Train</th>                                                  <td>    0.4372</td> <td>    0.175</td> <td>    2.504</td> <td> 0.012</td> <td>    0.095</td> <td>    0.779</td>\n",
       "</tr>\n",
       "<tr>\n",
       "  <th>TICKET3_Train</th>                                                  <td>    0.3899</td> <td>    0.276</td> <td>    1.415</td> <td> 0.157</td> <td>   -0.150</td> <td>    0.930</td>\n",
       "</tr>\n",
       "<tr>\n",
       "  <th>TICKET4_Train</th>                                                  <td>   -0.7732</td> <td>    0.237</td> <td>   -3.267</td> <td> 0.001</td> <td>   -1.237</td> <td>   -0.309</td>\n",
       "</tr>\n",
       "<tr>\n",
       "  <th>WHO0_Train</th>                                                     <td>   -0.0861</td> <td>    0.092</td> <td>   -0.933</td> <td> 0.351</td> <td>   -0.267</td> <td>    0.095</td>\n",
       "</tr>\n",
       "<tr>\n",
       "  <th>WHO0_SM</th>                                                        <td>    0.3049</td> <td>    0.057</td> <td>    5.382</td> <td> 0.000</td> <td>    0.194</td> <td>    0.416</td>\n",
       "</tr>\n",
       "<tr>\n",
       "  <th>AGE0_Train</th>                                                     <td>    0.0155</td> <td>    0.099</td> <td>    0.157</td> <td> 0.875</td> <td>   -0.178</td> <td>    0.209</td>\n",
       "</tr>\n",
       "<tr>\n",
       "  <th>AGE0_SM</th>                                                        <td>    0.0705</td> <td>    0.059</td> <td>    1.204</td> <td> 0.229</td> <td>   -0.044</td> <td>    0.185</td>\n",
       "</tr>\n",
       "<tr>\n",
       "  <th>AGE1_Train</th>                                                     <td>    0.1649</td> <td>    0.117</td> <td>    1.405</td> <td> 0.160</td> <td>   -0.065</td> <td>    0.395</td>\n",
       "</tr>\n",
       "<tr>\n",
       "  <th>AGE1_SM</th>                                                        <td>   -0.0850</td> <td>    0.069</td> <td>   -1.225</td> <td> 0.221</td> <td>   -0.221</td> <td>    0.051</td>\n",
       "</tr>\n",
       "<tr>\n",
       "  <th>AGE2_Train</th>                                                     <td>    0.9517</td> <td>    0.155</td> <td>    6.155</td> <td> 0.000</td> <td>    0.649</td> <td>    1.255</td>\n",
       "</tr>\n",
       "<tr>\n",
       "  <th>AGE2_SM</th>                                                        <td>   -0.5373</td> <td>    0.125</td> <td>   -4.291</td> <td> 0.000</td> <td>   -0.783</td> <td>   -0.292</td>\n",
       "</tr>\n",
       "<tr>\n",
       "  <th>INCOME0_Train</th>                                                  <td>   -0.1293</td> <td>    0.099</td> <td>   -1.311</td> <td> 0.190</td> <td>   -0.323</td> <td>    0.064</td>\n",
       "</tr>\n",
       "<tr>\n",
       "  <th>INCOME0_SM</th>                                                     <td>   -0.1773</td> <td>    0.057</td> <td>   -3.129</td> <td> 0.002</td> <td>   -0.288</td> <td>   -0.066</td>\n",
       "</tr>\n",
       "<tr>\n",
       "  <th>INCOME1_Train</th>                                                  <td>    0.1294</td> <td>    0.121</td> <td>    1.072</td> <td> 0.284</td> <td>   -0.107</td> <td>    0.366</td>\n",
       "</tr>\n",
       "<tr>\n",
       "  <th>INCOME1_SM</th>                                                     <td>    0.0170</td> <td>    0.088</td> <td>    0.193</td> <td> 0.847</td> <td>   -0.155</td> <td>    0.189</td>\n",
       "</tr>\n",
       "<tr>\n",
       "  <th>INCOME2_Train</th>                                                  <td>    0.3532</td> <td>    0.151</td> <td>    2.336</td> <td> 0.019</td> <td>    0.057</td> <td>    0.650</td>\n",
       "</tr>\n",
       "<tr>\n",
       "  <th>INCOME2_SM</th>                                                     <td>   -0.0806</td> <td>    0.128</td> <td>   -0.628</td> <td> 0.530</td> <td>   -0.332</td> <td>    0.171</td>\n",
       "</tr>\n",
       "</table>"
      ],
      "text/plain": [
       "<class 'statsmodels.iolib.summary.Summary'>\n",
       "\"\"\"\n",
       "                     Multinomial Logit Model Regression Results                    \n",
       "===================================================================================\n",
       "Dep. Variable:                      CHOICE   No. Observations:                6,373\n",
       "Model:             Multinomial Logit Model   Df Residuals:                    6,334\n",
       "Method:                                MLE   Df Model:                           39\n",
       "Date:                     Fri, 30 Aug 2019   Pseudo R-squ.:                   0.328\n",
       "Time:                             01:19:09   Pseudo R-bar-squ.:               0.322\n",
       "AIC:                             8,893.838   Log-Likelihood:             -4,407.919\n",
       "BIC:                             9,157.471   LL-Null:                    -6,559.905\n",
       "==================================================================================================================================\n",
       "                                                                     coef    std err          z      P>|z|      [0.025      0.975]\n",
       "----------------------------------------------------------------------------------------------------------------------------------\n",
       "ASC Train                                                         -1.3234      0.197     -6.718      0.000      -1.710      -0.937\n",
       "ASC Swissmetro                                                    -0.2962      0.129     -2.288      0.022      -0.550      -0.042\n",
       "Travel Time, units:hrs (Train and Swissmetro)                     -0.5758      0.043    -13.338      0.000      -0.660      -0.491\n",
       "Travel Time, units:hrs (Car)                                      -0.7041      0.049    -14.290      0.000      -0.801      -0.608\n",
       "Travel Cost * (Annual Pass == 0), units: 0.01 CHF (Train)         -1.1695      0.133     -8.818      0.000      -1.429      -0.910\n",
       "Travel Cost * (Annual Pass == 0), units: 0.01 CHF (Swissmetro)    -0.8582      0.049    -17.348      0.000      -0.955      -0.761\n",
       "Travel Cost, units: 0.01 CHF (Car)                                -0.9896      0.119     -8.350      0.000      -1.222      -0.757\n",
       "Headway, units:hrs, (Train)                                       -0.4058      0.071     -5.749      0.000      -0.544      -0.267\n",
       "Headway, units:hrs, (Swissmetro)                                  -0.5876      0.207     -2.839      0.005      -0.993      -0.182\n",
       "Airline Seat Configuration, base=No (Swissmetro)                  -0.4192      0.102     -4.120      0.000      -0.619      -0.220\n",
       "Surveyed on a Train, base=No, (Train and Swissmetro)               2.9434      0.144     20.471      0.000       2.662       3.225\n",
       "First Class == False, (Swissmetro)                                -0.0662      0.108     -0.615      0.538      -0.277       0.145\n",
       "Number of Luggage Pieces == 1, (Car)                               0.3526      0.071      4.981      0.000       0.214       0.491\n",
       "Number of Luggage Pieces > 1, (Car)                                1.8883      0.376      5.024      0.000       1.152       2.625\n",
       "OD0_Train                                                          0.2379      0.175      1.360      0.174      -0.105       0.581\n",
       "OD0_SM                                                            -0.0858      0.106     -0.809      0.418      -0.294       0.122\n",
       "OD1_Train                                                          0.1741      0.228      0.764      0.445      -0.272       0.621\n",
       "OD1_SM                                                            -0.0375      0.123     -0.305      0.760      -0.278       0.203\n",
       "OD2_Train                                                          0.2336      0.209      1.119      0.263      -0.175       0.643\n",
       "OD2_SM                                                             0.3665      0.141      2.592      0.010       0.089       0.644\n",
       "TICKET0_Train                                                     -0.3243      0.110     -2.954      0.003      -0.539      -0.109\n",
       "TICKET1_Train                                                      1.1969      0.125      9.573      0.000       0.952       1.442\n",
       "TICKET2_Train                                                      0.4372      0.175      2.504      0.012       0.095       0.779\n",
       "TICKET3_Train                                                      0.3899      0.276      1.415      0.157      -0.150       0.930\n",
       "TICKET4_Train                                                     -0.7732      0.237     -3.267      0.001      -1.237      -0.309\n",
       "WHO0_Train                                                        -0.0861      0.092     -0.933      0.351      -0.267       0.095\n",
       "WHO0_SM                                                            0.3049      0.057      5.382      0.000       0.194       0.416\n",
       "AGE0_Train                                                         0.0155      0.099      0.157      0.875      -0.178       0.209\n",
       "AGE0_SM                                                            0.0705      0.059      1.204      0.229      -0.044       0.185\n",
       "AGE1_Train                                                         0.1649      0.117      1.405      0.160      -0.065       0.395\n",
       "AGE1_SM                                                           -0.0850      0.069     -1.225      0.221      -0.221       0.051\n",
       "AGE2_Train                                                         0.9517      0.155      6.155      0.000       0.649       1.255\n",
       "AGE2_SM                                                           -0.5373      0.125     -4.291      0.000      -0.783      -0.292\n",
       "INCOME0_Train                                                     -0.1293      0.099     -1.311      0.190      -0.323       0.064\n",
       "INCOME0_SM                                                        -0.1773      0.057     -3.129      0.002      -0.288      -0.066\n",
       "INCOME1_Train                                                      0.1294      0.121      1.072      0.284      -0.107       0.366\n",
       "INCOME1_SM                                                         0.0170      0.088      0.193      0.847      -0.155       0.189\n",
       "INCOME2_Train                                                      0.3532      0.151      2.336      0.019       0.057       0.650\n",
       "INCOME2_SM                                                        -0.0806      0.128     -0.628      0.530      -0.332       0.171\n",
       "==================================================================================================================================\n",
       "\"\"\""
      ]
     },
     "execution_count": 140,
     "metadata": {},
     "output_type": "execute_result"
    }
   ],
   "source": [
    "# Estimate the multinomial logit model (MNL)\n",
    "swissmetro_mnl = pl.create_choice_model(data=pca_long_sw_df_train_train,\n",
    "                                        alt_id_col=custom_alt_id,\n",
    "                                        obs_id_col=obs_id_column,\n",
    "                                        choice_col=choice_column,\n",
    "                                        specification=basic_specification,\n",
    "                                        model_type=\"MNL\",\n",
    "                                        names=basic_names)\n",
    "\n",
    "deg_freedom=sum([len(b) for b in basic_specification.values()])\n",
    "# Specify the initial values and method for the optimization.\n",
    "swissmetro_mnl.fit_mle(np.zeros(deg_freedom))\n",
    "\n",
    "\n",
    "# Look at the estimation results\n",
    "swissmetro_mnl.get_statsmodels_summary()"
   ]
  },
  {
   "cell_type": "code",
   "execution_count": 141,
   "metadata": {},
   "outputs": [
    {
     "name": "stdout",
     "output_type": "stream",
     "text": [
      "-1426.9913123365661\n",
      "model results for PCA (2003 observations, 39 degrees of freedom)\n",
      "R^2 test=0.308102 & adjusted R^2 test=0.294360\n",
      "AIC test=2931.982625 & BIC test=3150.489255\n"
     ]
    }
   ],
   "source": [
    "long_probs=swissmetro_mnl.predict(pca_long_sw_df_test)\n",
    "SCORE=sum([np.log(x) for x in np.multiply(long_probs, pca_long_sw_df_test['CHOICE']) if x!=0.0])\n",
    "\n",
    "print(SCORE)\n",
    "SCORE_PCA=SCORE\n",
    "\n",
    "obs_ll=swissmetro_mnl.null_log_likelihood/swissmetro_mnl.nobs\n",
    "rsq=1-(SCORE/(obs_ll*testsetsize))\n",
    "adjrsq=rsq-(1-rsq)*deg_freedom/(testsetsize-deg_freedom-1)\n",
    "AIC=2*deg_freedom-2*SCORE\n",
    "BIC=math.log(testsetsize)*deg_freedom-2*SCORE\n",
    "print(\"model results for PCA (%d observations, %d degrees of freedom)\"%(testsetsize,deg_freedom))\n",
    "print(\"R^2 test=%f & adjusted R^2 test=%f\"%(rsq, adjrsq))\n",
    "print(\"AIC test=%f & BIC test=%f\"%(AIC, BIC))    \n"
   ]
  },
  {
   "cell_type": "code",
   "execution_count": 142,
   "metadata": {
    "scrolled": false
   },
   "outputs": [
    {
     "name": "stdout",
     "output_type": "stream",
     "text": [
      "variable name\tcoeff\tstderr\tz-score\tp-value\n",
      "OD_AR_BE_Train&0.001&0.001&2.209&0.027**&&\\\\\n",
      "OD_AR_ZH_Train&0.000&0.001&1.770&0.077*&&\\\\\n",
      "OD_BE_AG_Train&0.001&0.001&2.163&0.031**&&\\\\\n",
      "OD_BE_GE_Train&0.000&0.001&2.058&0.040**&&\\\\\n",
      "OD_BE_GR_Train&0.003&0.002&1.915&0.055*&&\\\\\n",
      "OD_BE_TI_Train&0.003&0.002&1.884&0.060*&&\\\\\n",
      "OD_BE_VD_Train&0.001&0.001&2.152&0.031**&&\\\\\n",
      "OD_BE_ZH_Train&0.003&0.002&1.894&0.058*&&\\\\\n",
      "OD_FR_GE_Train&0.006&0.004&1.651&0.099*&&\\\\\n",
      "OD_VD_BS_Train&-0.023&0.013&-1.713&0.087*&&\\\\\n",
      "OD_VD_LU_Train&-0.027&0.015&-1.771&0.077*&&\\\\\n",
      "OD_VD_SZ_Train&-0.030&0.016&-1.786&0.074*&&\\\\\n",
      "OD_ZH_VS_Train&0.066&0.036&1.844&0.065*&&\\\\\n",
      "OD_SG_VD_SM&0.023&0.010&2.384&0.017**&&\\\\\n",
      "OD_SG_ZH_SM&0.333&0.126&2.650&0.008**&&\\\\\n",
      "OD_SH_BE_SM&0.148&0.062&2.399&0.016**&&\\\\\n",
      "OD_VD_BS_SM&-0.015&0.008&-1.797&0.072*&&\\\\\n",
      "TICKET_1 way w 1/2 price_Train&-0.926&0.328&-2.738&0.006**&&\\\\\n",
      "TICKET_2 way normal price_Train&0.318&0.300&1.154&0.249&&\\\\\n",
      "TICKET_2 way w 1/2 price_Train&-0.106&0.237&-0.332&0.740&&\\\\\n",
      "TICKET_Annual ticket_Train&0.096&0.236&0.520&0.603&&\\\\\n",
      "TICKET_Annual ticket Junior or Senior_Train&1.006&0.260&3.971&0.000**&&\\\\\n",
      "TICKET_Free travel after 7pm_Train&-0.409&0.241&-1.582&0.114&&\\\\\n",
      "TICKET_Half day_Train&-0.473&0.259&-1.718&0.086*&&\\\\\n",
      "TICKET_Other_Train&-0.309&0.277&-1.017&0.309&&\\\\\n",
      "WHO_half-half_Train&0.041&0.077&1.300&0.193&&\\\\\n",
      "WHO_self_Train&0.021&0.067&1.198&0.231&&\\\\\n",
      "WHO_unknown_Train&-0.043&0.078&0.196&0.844&&\\\\\n",
      "WHO_half-half_SM&-0.146&0.047&-7.502&0.000**&&\\\\\n",
      "WHO_self_SM&-0.076&0.041&-6.909&0.000**&&\\\\\n",
      "WHO_unknown_SM&0.152&0.048&-1.132&0.258&&\\\\\n",
      "AGE_39<age≤54_Train&0.669&0.176&3.998&0.000**&&\\\\\n",
      "AGE_54<age≤ 65_Train&-0.457&0.137&-3.097&0.002**&&\\\\\n",
      "AGE_65 <age_Train&-0.143&0.113&-0.961&0.336&&\\\\\n",
      "AGE_age≤24_Train&0.506&0.147&3.667&0.000**&&\\\\\n",
      "AGE_39<age≤54_SM&-0.422&0.123&-3.938&0.000**&&\\\\\n",
      "AGE_54<age≤ 65_SM&0.230&0.089&1.874&0.061*&&\\\\\n",
      "AGE_65 <age_SM&0.071&0.068&0.101&0.920&&\\\\\n",
      "AGE_age≤24_SM&-0.247&0.095&-3.257&0.001**&&\\\\\n",
      "INCOME_over 100_Train&0.281&0.175&2.589&0.010**&&\\\\\n",
      "INCOME_under 50_Train&-0.137&0.131&0.269&0.788&&\\\\\n",
      "INCOME_unknown_Train&-0.177&0.155&-0.030&0.976&&\\\\\n",
      "INCOME_over 100_SM&0.014&0.132&1.141&0.254&&\\\\\n",
      "INCOME_under 50_SM&0.070&0.093&2.210&0.027**&&\\\\\n",
      "INCOME_unknown_SM&0.120&0.112&2.301&0.021**&&\\\\\n"
     ]
    }
   ],
   "source": [
    "print(\"variable name\\tcoeff\\tstderr\\tz-score\\tp-value\")\n",
    "\n",
    "count=0\n",
    "countsig=0\n",
    "for var, EMB_SIZE in zip(emb_vars, EMB_SIZES):#[d for d in emb_vars if d!='OD']:\n",
    "\n",
    "    alfs=pt.embeddings_dic[var]['index2alfa_from']\n",
    "    evecs=pca_dic[var].components_\n",
    "\n",
    "    alternatives=['Train', 'SM']\n",
    "    if var in [\"TICKET\"]:#, \"OD\"]:\n",
    "        alternatives=['Train']\n",
    "    for m in alternatives:\n",
    "        for i in range(evecs.shape[0]):\n",
    "            \n",
    "            mean=0\n",
    "            stde=0\n",
    "            \n",
    "            for j in range(EMB_SIZE):\n",
    "                mean+=evecs[i,j]*swissmetro_mnl.coefs[var+str(j)+\"_\"+m]\n",
    "                stde+=evecs[i,j]**2*swissmetro_mnl.standard_errors[var+str(j)+\"_\"+m]**2\n",
    "            if i==0:\n",
    "                stde_default=stde\n",
    "                mean_default=mean\n",
    "                continue\n",
    "            stde=math.sqrt(stde+stde_default)\n",
    "            z_score=(mean-mean_default)/stde                \n",
    "            p_value = scipy.stats.norm.sf(abs(z_score))*2 #twosided\n",
    "            signif=\"\"\n",
    "            s=\"%\"\n",
    "            if p_value<0.05:\n",
    "                signif=\"**\"\n",
    "                countsig+=1\n",
    "                s=\"\"\n",
    "            elif p_value<0.1:\n",
    "                signif=\"*\"\n",
    "                countsig+=1\n",
    "                s=\"\"\n",
    "            #print(var+str(i)+\"_\"+m+\"\\t%.3f\\t%.3f\\t%.3f\\t%.3f%s\"% (mean, stde, z_score, p_value, signif))\n",
    "            #print(alfs[i]+\"_\"+m+\"\\t%.3f\\t%.3f\\t%.3f\\t%.3f%s\"% (mean, stde, z_score, p_value, signif))\n",
    "            if signif!=\"\" or var!=\"OD\":\n",
    "                print(var+\"_\"+alfs[i]+\"_\"+m+\"&%.3f&%.3f&%.3f&%.3f%s&&\\\\\\\\\"% (mean, stde, z_score, p_value, signif))\n",
    "            count+=1\n",
    "\n",
    "\n",
    "\n",
    "        \n",
    "            "
   ]
  },
  {
   "cell_type": "markdown",
   "metadata": {},
   "source": [
    "A summary of the results (only showing test likelihoods)"
   ]
  },
  {
   "cell_type": "code",
   "execution_count": 143,
   "metadata": {},
   "outputs": [
    {
     "name": "stdout",
     "output_type": "stream",
     "text": [
      "SCORE ORIGINAL=-1486\n",
      " SCORE EMBEDDINGS=-1417\n",
      " SCORE DUMMY=-1429\n",
      " SCORE PCA=-1426\n",
      "\n"
     ]
    }
   ],
   "source": [
    "print(\"SCORE ORIGINAL=%d\\n SCORE EMBEDDINGS=%d\\n SCORE DUMMY=%d\\n SCORE PCA=%d\\n\"%(SCORE_ORIGINAL, SCORE_EMBEDDINGS, SCORE_DUMMY, SCORE_PCA))"
   ]
  },
  {
   "cell_type": "code",
   "execution_count": null,
   "metadata": {},
   "outputs": [],
   "source": []
  }
 ],
 "metadata": {
  "kernelspec": {
   "display_name": "Python 3",
   "language": "python",
   "name": "python3"
  },
  "language_info": {
   "codemirror_mode": {
    "name": "ipython",
    "version": 3
   },
   "file_extension": ".py",
   "mimetype": "text/x-python",
   "name": "python",
   "nbconvert_exporter": "python",
   "pygments_lexer": "ipython3",
   "version": "3.6.7"
  }
 },
 "nbformat": 4,
 "nbformat_minor": 2
}
